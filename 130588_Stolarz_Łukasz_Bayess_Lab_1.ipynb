{
 "cells": [
  {
   "cell_type": "markdown",
   "metadata": {
    "colab_type": "text",
    "id": "AMMXLENOd7V-"
   },
   "source": [
    "# Wstęp do Sztucznej Inteligencji - rok akademicki 2019/2020\n",
    "\n",
    "Przed rozpoczęciem pracy z notatnikiem zmień jego nazwę zgodnie z wzorem: `{NrAlbumu}_{Nazwisko}_{Imie}_{PoprzedniaNazwa}`.\n",
    "\n",
    "Przed wysłaniem notatnika upewnij się, że rozwiązałeś wszystkie zadania/ćwiczenia."
   ]
  },
  {
   "cell_type": "markdown",
   "metadata": {
    "colab_type": "text",
    "id": "4ZZF68t-kiQ8"
   },
   "source": [
    "# Temat: Wnioskowanie oparte na wiedzy niepewnej. Wnioskowanie bayesowskie\n",
    "Zapoznaj się z treścią niniejszego notatnika czytając i wykonując go komórka po komórce. Wykonaj napotkane zadania/ćwiczenia.\n",
    "\n",
    "Na niniejszych laboratoriach będziemy wykorzystywać bibliotekę `pymc3` (https://docs.pymc.io/). Biblioteka ta jest już zainstalowana w środowisku ale nie w najnowszej wersji, dlatego w poniższej komórce zostanie ona zaktualizowana, oraz doinstalujemy pakiet zawierający metody do wizualizacji."
   ]
  },
  {
   "cell_type": "code",
   "execution_count": 3,
   "metadata": {
    "colab": {},
    "colab_type": "code",
    "id": "MDoK-uWZhhD7"
   },
   "outputs": [
    {
     "name": "stdout",
     "output_type": "stream",
     "text": [
      "Requirement already satisfied: pymc3==3.8 in c:\\users\\kokol\\anaconda3\\lib\\site-packages (3.8)\n",
      "Requirement already satisfied: arviz in c:\\users\\kokol\\anaconda3\\lib\\site-packages (0.7.0)\n",
      "Requirement already satisfied: patsy>=0.4.0 in c:\\users\\kokol\\anaconda3\\lib\\site-packages (from pymc3==3.8) (0.5.1)\n",
      "Requirement already satisfied: pandas>=0.18.0 in c:\\users\\kokol\\anaconda3\\lib\\site-packages (from pymc3==3.8) (1.0.1)\n",
      "Requirement already satisfied: scipy>=0.18.1 in c:\\users\\kokol\\anaconda3\\lib\\site-packages (from pymc3==3.8) (1.4.1)\n",
      "Requirement already satisfied: h5py>=2.7.0 in c:\\users\\kokol\\anaconda3\\lib\\site-packages (from pymc3==3.8) (2.10.0)\n",
      "Requirement already satisfied: numpy>=1.13.0 in c:\\users\\kokol\\anaconda3\\lib\\site-packages (from pymc3==3.8) (1.18.1)\n",
      "Requirement already satisfied: theano>=1.0.4 in c:\\users\\kokol\\anaconda3\\lib\\site-packages (from pymc3==3.8) (1.0.4)\n",
      "Requirement already satisfied: tqdm>=4.8.4 in c:\\users\\kokol\\anaconda3\\lib\\site-packages (from pymc3==3.8) (4.42.1)\n",
      "Requirement already satisfied: xarray>=0.11 in c:\\users\\kokol\\anaconda3\\lib\\site-packages (from arviz) (0.15.1)\n",
      "Requirement already satisfied: packaging in c:\\users\\kokol\\anaconda3\\lib\\site-packages (from arviz) (20.1)\n",
      "Requirement already satisfied: matplotlib>=3.0 in c:\\users\\kokol\\anaconda3\\lib\\site-packages (from arviz) (3.1.3)\n",
      "Requirement already satisfied: netcdf4 in c:\\users\\kokol\\anaconda3\\lib\\site-packages (from arviz) (1.5.3)\n",
      "Requirement already satisfied: six in c:\\users\\kokol\\anaconda3\\lib\\site-packages (from patsy>=0.4.0->pymc3==3.8) (1.14.0)\n",
      "Requirement already satisfied: python-dateutil>=2.6.1 in c:\\users\\kokol\\anaconda3\\lib\\site-packages (from pandas>=0.18.0->pymc3==3.8) (2.8.1)\n",
      "Requirement already satisfied: pytz>=2017.2 in c:\\users\\kokol\\anaconda3\\lib\\site-packages (from pandas>=0.18.0->pymc3==3.8) (2019.3)\n",
      "Requirement already satisfied: setuptools>=41.2 in c:\\users\\kokol\\anaconda3\\lib\\site-packages (from xarray>=0.11->arviz) (45.2.0.post20200210)\n",
      "Requirement already satisfied: pyparsing>=2.0.2 in c:\\users\\kokol\\anaconda3\\lib\\site-packages (from packaging->arviz) (2.4.6)\n",
      "Requirement already satisfied: cycler>=0.10 in c:\\users\\kokol\\anaconda3\\lib\\site-packages (from matplotlib>=3.0->arviz) (0.10.0)\n",
      "Requirement already satisfied: kiwisolver>=1.0.1 in c:\\users\\kokol\\anaconda3\\lib\\site-packages (from matplotlib>=3.0->arviz) (1.1.0)\n",
      "Requirement already satisfied: cftime in c:\\users\\kokol\\anaconda3\\lib\\site-packages (from netcdf4->arviz) (1.1.1.2)\n"
     ]
    }
   ],
   "source": [
    "!pip install pymc3==3.8 arviz"
   ]
  },
  {
   "cell_type": "code",
   "execution_count": 4,
   "metadata": {
    "colab": {},
    "colab_type": "code",
    "id": "jMNPVnxKmRsa"
   },
   "outputs": [
    {
     "name": "stdout",
     "output_type": "stream",
     "text": [
      "Pymc3 version: 3.8\n",
      "Arviz version: 0.7.0\n"
     ]
    }
   ],
   "source": [
    "import pymc3 as pm\n",
    "import arviz as az\n",
    "import numpy as np\n",
    "print('Pymc3 version:', pm.__version__)\n",
    "print('Arviz version:', az.__version__)"
   ]
  },
  {
   "cell_type": "markdown",
   "metadata": {
    "colab_type": "text",
    "id": "9B7YUblnktrz"
   },
   "source": [
    "## Wnioskowanie probabilistyczne\n",
    "Wnioskowanie probabilistyczne nazywamy także wnioskowaniem bayesowskim, ze względu na kluczową rolę, jaką w nim pełni wzór Bayesa. Jest to metoda przetwarzania wiedzy niepewnej oparta na bezpośrednim wykorzystaniu rachunku prawdopodobieństwa, w której poszczególnym stwierdzeniom przypisuje się prawdopodobieństwo ich prawdziwości."
   ]
  },
  {
   "cell_type": "markdown",
   "metadata": {
    "colab_type": "text",
    "id": "5xPZCNLQ2zKO"
   },
   "source": [
    "### Wzór na prawdopodobieństwo warunkowe:\n",
    "\n",
    "$$ P(A|B) = \\frac{P(A\\cap B)}{P(B)} \\stackrel{z}{=}\\frac{P(A)P(B)}{P(B)},$$\n",
    "gdzie równość $\\stackrel{z}{=}$ zachodzi przy założeniu niezależności zdarzeń $A$ i $B$."
   ]
  },
  {
   "cell_type": "markdown",
   "metadata": {
    "colab_type": "text",
    "id": "VWilOQkE_yA8"
   },
   "source": [
    "### Wzór Bayesa: \n",
    "Opisuje następującą zależność prawdopodobieństw warunkowych:\n",
    "\n",
    "$$ P(A|B)=\\frac{P(B|A)P(A)}{P(B)}.$$"
   ]
  },
  {
   "cell_type": "markdown",
   "metadata": {
    "colab_type": "text",
    "id": "lFD4AIrBffbv"
   },
   "source": [
    "### Prawdopodobieństwo całkowite:\n",
    "Jeżeli zdarzenia $B_1,B_2,\\ldots,B_n$ są parami rozłączne oraz mają prawdopodobieństwa dodatnie, które sumują się do jedynki, to dla dowolnego zdarzenia $A$ zachodzi wzór:\n",
    "\n",
    "$$P(A)=P(A|B_1)P(B_1)+P(A|B_2)P(B_2)+\\ldots +P(A|B_n)P(B_n).$$"
   ]
  },
  {
   "cell_type": "markdown",
   "metadata": {
    "colab_type": "text",
    "id": "l_vcZLlxh19H"
   },
   "source": [
    "### Zastosowanie we wnioskowaniu:\n",
    "Załóżmy, że bierzemy pod uwagę skończoną liczbę hipotez $H_1,\\ldots,H_n$ parami niezależnych i wyczerpujących wszystkie możliwości. Oraz dysponujemy skończoną liczbą przesłanek $E_1,\\ldots,E_m$, o których wiemy, że zaszły. Wówczas z wzoru Bayesa przez zastosowanie wzoru na prawdopodobieństwo całkowite można wyprowadzić następujący wzór ogólny:\n",
    "\n",
    "$$P(H_i|E_1,\\ldots,E_m)=\\frac{P(E_1,\\ldots, E_m|H_i)P(H_i)}{\\sum\\limits_{j=0}^nP(E_1,\\ldots,E_m|H_j)P(H_j)}.$$\n",
    "\n",
    "Oznacza to, że znając prawdopodobieństwa a priori hipotez $P(H_i)$ oraz prawdopodobieństwa warunkowe $P(E_j|H_i)$ możemy wyznaczyć prawdopodobieństwa a posteriori hipotez $P(H_i|E_j)$."
   ]
  },
  {
   "cell_type": "markdown",
   "metadata": {
    "colab_type": "text",
    "id": "l-OhAVorh9ow"
   },
   "source": [
    "## Naiwny model Bayesa\n",
    "Ostatnie zdanie poprzedniego punktu można przyjąć jedynie z pewnym zastrzeżeniem. $P(A \\cap B) = P(A)P(B)$ wtedy i tylko wtedy jeśli $A$ oraz $B$ są niezależne. Zależność ta jest również prawdziwa warunkowo, tzn. $P(A \\cap B|C) = P(A|C)P(B|C)$ dla pewnego zdarzenia $C$, wtedy i tylko wtedy jeśli $A$ oraz $B$ są niezależne pod warunkiem $C$. \n",
    "\n",
    "Zatem, w ogólnym przypadku oryginalny wzór Bayesa\n",
    "\n",
    "$$P(H_i|E_1,\\ldots,E_m)=\\frac{P(E_1,\\ldots, E_m|H_i)P(H_i)}{\\sum\\limits_{j=0}^nP(E_1,\\ldots,E_m|H_j)P(H_j)}.$$\n",
    "\n",
    "nie jest równoważny\n",
    "\n",
    "$$P(H_i|E_1,\\ldots,E_m)=\\frac{P(E_1|H_i)P(E_2|H_i)\\ldots P(E_m|H_i)P(H_i)}{\\sum\\limits_{j=0}^nP(E_1|H_j)P(E_2|H_j)\\ldots P(E_m|H_j)P(H_j)}.$$\n",
    "\n",
    "Są one równoważne jedynie jeśli przesłanki $E$ są niezależne pod warunkiem każdej $H_i$. \n",
    "\n",
    "Drugi wzór jest jednak o wiele korzystniejszy w praktyce, jako iż łatwiej jest estymować prawdopodobieństwa dla pojedynczych $E$ niż rozkłady łączne dla $E_1,\\ldots,E_m$. Jeśli stosujemy drugi wzór mimo braku niezależności $E$, mamy do czynienia z pewną naiwnością - naiwnym liczeniem na to, iż mimo naruszenia ścisłego matematycznego wymogu niezależności, model i tak będzie działał. I tak też często jest. Jakość działania takiego naiwnego modelu zależy m.in. od tego, jak bardzo odbiegamy od ideału całkowitej niezależności $E$.\n",
    "\n",
    "__Uwaga__: We wszystkich poniższych przykładach, zwróć uwagę, kiedy korzystamy z tego założenia."
   ]
  },
  {
   "cell_type": "markdown",
   "metadata": {
    "colab_type": "text",
    "id": "OJCwrDffiEd9"
   },
   "source": [
    "### Skąd prawdopodobieństwa?\n",
    "Zarówno prawdopodobieństwa a priori jak i warunkowe, potrzebne do zastosowania wzoru Bayesa, można otrzymać od ekspertów bądź też szacować na podstawie danych historycznych."
   ]
  },
  {
   "cell_type": "markdown",
   "metadata": {
    "colab_type": "text",
    "id": "aTJLCU6KiT-T"
   },
   "source": [
    "## Przykład 1: Test medyczny\n",
    "\n",
    "- Pewna choroba $X$ dotyczy $1\\%$ populacji.\n",
    "- Test wykrywa chorobę ze skutecznością $99\\%$ (ang. recall, czułość testu, czyli jego zdolność wykrycia choroby pod warunkiem, że dana osoba rzeczywiście jest chora).\n",
    "- Test błędnie wykrywa chorobę w przypadku $2\\%$ zdrowych ludzi (ang. false alarm rate, $FAR$, przypadek fałszywie pozytywny; specyficzność testu jest pojęciem pokrewnym, jest to zdolność testu wskazania braku choroby dla osoby rzeczywiście zdrowej, czyli specyficzność = $1 - FAR$).\n",
    "- Po wykonaniu testu, Pan $Z$ dostaje wynik pozytywny. \n",
    "\n",
    "__Jakie jest prawdopodobieństwo, że Pan $Z$ jest chory?__\n",
    "\n",
    "Należy skorzystać ze wzoru Bayesa.\n",
    "\n",
    "$H$ - Pan $Z$ jest chory\n",
    "\n",
    "$E$ - wynik testu jest pozytywny\n",
    "\n",
    "$P(H|E)$ - to chcemy policzyć\n",
    "\n",
    "$P(H)$ = 0.01, zatem $P(\\neg H)$ = 0.99\n",
    "\n",
    "$P(E|H)$ = 0.99\n",
    "\n",
    "$P(E|\\neg H)$ = 0.02\n",
    "\n",
    "$$P(H|E) = \\frac{P(E|H)P(H)}{P(E)} = \\frac{P(E|H)P(H)}{P(E|H)P(H) + P(E|\\neg H)P(\\neg H)}$$"
   ]
  },
  {
   "cell_type": "code",
   "execution_count": 5,
   "metadata": {
    "colab": {},
    "colab_type": "code",
    "id": "Mfbv6i25BPSu"
   },
   "outputs": [
    {
     "name": "stdout",
     "output_type": "stream",
     "text": [
      "Prawdopodobieństwo choroby Pana Z = 0.3333333333333333\n"
     ]
    }
   ],
   "source": [
    "p_H = 0.01\n",
    "p_notH = 0.99\n",
    "p_E_H = 0.99\n",
    "p_E_notH = 0.02\n",
    "\n",
    "p_H_E = p_E_H*p_H/(p_E_H*p_H + p_E_notH*p_notH)\n",
    "\n",
    "print('Prawdopodobieństwo choroby Pana Z =', p_H_E)"
   ]
  },
  {
   "cell_type": "markdown",
   "metadata": {
    "colab_type": "text",
    "id": "ZiHzVQYYibOS"
   },
   "source": [
    "## Przykład 2: Prognoza pogody\n",
    "\n",
    "Hipotezy:\n",
    "\n",
    "- $H_1$ pogoda jutro będzie deszczowa,\n",
    "- $H_2$ pogoda jutro będzie słoneczna.\n",
    "\n",
    "Zaobserwowane przesłanki:\n",
    "\n",
    "- $E_1$ pogoda dziś słoneczna,\n",
    "- $E_2$ opady dziś niskie,\n",
    "- $E_3$ temperatura dziś wysoka,\n",
    "- $E_4$ niebo dziś bezchmurne.\n",
    "\n",
    "Prawdopodobieństwa a priori:\n",
    "\n",
    "$P(H_1) = P(H_2) = 0.5$,\n",
    "\n",
    "$P(E_1|H_1) = 0.2,\\quad \\qquad P(E_1|H_2) = 0.33,$\n",
    "\n",
    "$P(E_2|H_1) = 0.032,\\qquad P(E_2|H_2) = 0.8,$\n",
    "\n",
    "$P(E_3|H_1) = 0.75,\\ \\ \\qquad P(E_3|H_2) = 0.225,$\n",
    "\n",
    "$P(E_4|H_1) = 0.765,\\qquad P(E_4|H_2) = 0.85.$\n",
    "\n",
    "Prawdopodobieństwa a posteriori:\n",
    "\n",
    "$$ P(H_1|E_1, E_2, E_3, E_4) = \\frac{0.2\\cdot 0.032\\cdot 0.75\\cdot 0.765 \\cdot 0.5}{0.2\\cdot 0.032\\cdot 0.75\\cdot 0.765 \\cdot 0.5 + 0.33\\cdot 0.8\\cdot 0.225\\cdot 0.85\\cdot 0.5}=0.068.$$\n",
    "\n",
    "$$ P(H_2|E_1, E_2, E_3, E_4) = \\frac{0.33\\cdot 0.8\\cdot 0.225\\cdot 0.85\\cdot 0.5}{0.2\\cdot 0.032\\cdot 0.75\\cdot 0.765 \\cdot 0.5 + 0.33\\cdot 0.8\\cdot 0.225\\cdot 0.85\\cdot 0.5}=0.932.$$"
   ]
  },
  {
   "cell_type": "markdown",
   "metadata": {
    "colab_type": "text",
    "id": "QKWpMlq9iz-A"
   },
   "source": [
    "## Przykład 3: Z wykładu ([J. Arabas, P. Cichosz](http://wazniak.mimuw.edu.pl/index.php?title=Sztuczna_inteligencja/SI_Modu%C5%82_4_-_Wnioskowanie_na_podstawie_wiedzy_niepewnej_i_niepe%C5%82nej)): Diagnostyka grypy\n",
    "\n",
    "Rozważmy następującą prostą ilustrację przedstawionego mechanizmu wnioskowania, traktując rozważane w niej przykładowe fakty (przesłanki) i hipotezy z należnym dystansem. Weźmiemy pod uwagę sytuację, w której diagnozując dolegliwości pacjenta ograniczono zbiór możliwych diagnoz do następujących dwóch wykluczających się hipotez:\n",
    "\n",
    "- $H_1$ pacjent jest chory na grypę,\n",
    "\n",
    "- $H_2$ pacjent nie jest chory na grypę. \n",
    "\n",
    "Podstawą do wnioskowania mogą być następujące pojedyncze fakty:\n",
    "\n",
    "- $E_1$ pacjent ma katar, \n",
    "\n",
    "- $E_2$ pacjent ma kaszel, \n",
    "\n",
    "- $E_3$ pacjent ma gorączkę. \n",
    "\n",
    "Przyjmijmy, że dostarczający wiedzę do systemu diagnostycznego ekspert ustalił następujące wartości prawdopodobieństw:\n",
    "\n",
    "$P(H_1) = 0.1,\\qquad\\quad\\  P(H_2) = 0.9,$\n",
    "\n",
    "$P(E_1|H_1) =  0.5,\\qquad P(E_1|H_2) =0.3,$\n",
    "\n",
    "$P(E_2|H_1) =  0.3,\\qquad P(E_2|H_2) = 0.3,$\n",
    "\n",
    "$P(E_3|H_1) =  0.8,\\qquad P(E_3|H_2) =  0.4.$\n",
    "\n",
    "Na tej podstawie możemy obliczyć prawdopodobieństwa faktów:\n",
    "\n",
    "$P(E_1) = P(H_1)P(E_1|H_1) + P(H_2)P(E_1|H_2) = 0.1\\cdot 0.5+0.9\\cdot 0.3 = 0.32,$\n",
    "\n",
    "$P(E_2) = P(H_1)P(E_2|H_1) + P(H_2)P(E_2|H_2) = 0.1\\cdot 0.3+0.9\\cdot 0.3 = 0.3,$\n",
    "\n",
    "$P(E_3) = P(H_1)P(f_3|H_1) + P(H_2)P(E_3|H_2) = 0.1\\cdot 0.8+0.9\\cdot 0.4 = 0.44,$ \n",
    "\n",
    "Aby wyznaczyć prawdopodobieństwa a posteriori rozważanych hipotez na podstawie każdego z pojedynczych objawów stosujemy bezpośrednio wzór Bayesa:\n",
    "\n",
    "$$P(H_1|E_1) = \\frac{P(H_1)P(E_1|H_1)}{P(E_1)} = \\frac{0.1\\cdot 0.5}{0.32} = 0.15625,$$\n",
    "\n",
    "$$P(H_1|E_2) = \\frac{P(H_1)P(E_2|H_1)}{P(E_2)} = \\frac{0.1\\cdot 0.3}{0.33} = 0.1,$$\n",
    "\n",
    "$$P(H_1|E_3) = \\frac{P(H_1)P(E_3|H_1)}{P(E_3)} = \\frac{0.1\\cdot 0.8}{0.44} = 0.18182.$$\n",
    "\n",
    "Można również obliczyć prawdopodobieństw a posteriori rozważanych hipotez na podstawie dowolnych dwóch objawów oraz wszystkich trzech objawów (analogicznie jak w przykładzie wyżej).\n",
    "\n",
    "Co powiesz odnośnie niezależności $E_1$, $E_2$ oraz $E_3$ w tym przypadku?"
   ]
  },
  {
   "cell_type": "markdown",
   "metadata": {
    "colab_type": "text",
    "id": "D4QnaFVYi8bw"
   },
   "source": [
    "## Uwaga\n",
    "W praktycznych zagadnieniach, rozważane modele są dużo bardziej skomplikowane, a modelowane fakty mogą przyjmować wartości z dowolnymi rozkładami prawdopodobieństw, zarówno dyskretnymi jaki i ciągłymi, ponadto mogą między nimi występować przeróżne zależności. Wówczas obliczenie odpowiednich prawdopodobieństw nie jest już takie proste, a czasami nawet niemożliwe do obliczenia w sposób analityczny. W takich przypadkach odpowiednie prawdopodobieństwa oblicza się przy użyciu symulacji komputerowych."
   ]
  },
  {
   "cell_type": "markdown",
   "metadata": {
    "colab_type": "text",
    "id": "PE1roTj0jGUJ"
   },
   "source": [
    "## Symulacja przykładu 3 w języku Python z wykorzystaniem modułu `pymc3`"
   ]
  },
  {
   "cell_type": "markdown",
   "metadata": {
    "colab_type": "text",
    "id": "s_0-DGvbjdAO"
   },
   "source": [
    "### Tworzenie modelu:"
   ]
  },
  {
   "cell_type": "code",
   "execution_count": 7,
   "metadata": {
    "colab": {},
    "colab_type": "code",
    "id": "_3DQ1FhSCIN-"
   },
   "outputs": [],
   "source": [
    "with pm.Model() as grypa_model:\n",
    "    # zmienna grypa o rozkładzie Bernoulliego z prawd. 0.1, \n",
    "    # z prawd. 0.1 True (grypa), z prawd. 0.9 False (nie grypa)\n",
    "    grypa = pm.Bernoulli('grypa', 0.1)\n",
    "\n",
    "    # prawd. kataru pod warunkiem grypy\n",
    "    # jeżeli grypa to p_katar=0.5, jeżeli nie grypa to p_katar=0.3\n",
    "    p_katar = pm.Deterministic('p_katar', pm.math.switch(grypa, 0.5, 0.3))\n",
    "    # zmienna katar o rozkładie Bernoulliego\n",
    "    katar = pm.Bernoulli('katar', p_katar)\n",
    "\n",
    "    # prawd. kaszlu pod warunkiem grypy\n",
    "    # jeżeli grypa to p_kaszel=0.3, jeżeli nie grypa to p_kaszel=0.3\n",
    "    p_kaszel = pm.Deterministic('p_kaszel', pm.math.switch(grypa, 0.3, 0.3))\n",
    "    # zmienna kaszel o rozkładie Bernoulliego\n",
    "    kaszel = pm.Bernoulli('kaszel', p_kaszel)\n",
    "\n",
    "    # prawd. goraczki pod warunkiem grypy\n",
    "    # jeżeli grypa to p_goraczka=0.8, jeżeli nie grypa to p_goraczka=0.4\n",
    "    p_goraczka = pm.Deterministic('p_goraczka', pm.math.switch(grypa, 0.8, 0.4))\n",
    "    goraczka = pm.Bernoulli('goraczka', p_goraczka)"
   ]
  },
  {
   "cell_type": "markdown",
   "metadata": {
    "colab_type": "text",
    "id": "jn0KqUF5CQfH"
   },
   "source": [
    "### Symulacje:"
   ]
  },
  {
   "cell_type": "code",
   "execution_count": 8,
   "metadata": {
    "colab": {},
    "colab_type": "code",
    "id": "k17CspahCS4-"
   },
   "outputs": [
    {
     "name": "stderr",
     "output_type": "stream",
     "text": [
      "Sequential sampling (1 chains in 1 job)\n",
      "BinaryGibbsMetropolis: [grypa, katar, kaszel, goraczka]\n",
      "Sampling chain 0, 0 divergences: 100%|██████████████████████████████████████████| 20500/20500 [00:39<00:00, 512.58it/s]\n",
      "Only one chain was sampled, this makes it impossible to run some convergence checks\n"
     ]
    }
   ],
   "source": [
    "with grypa_model:\n",
    "    trace = pm.sample(20000, chains=1)  # liczba symulacji, są inne parametry warto sprawdzić w dokumentacji"
   ]
  },
  {
   "cell_type": "markdown",
   "metadata": {
    "colab_type": "text",
    "id": "bDsMZnVxCZHb"
   },
   "source": [
    "Wszystkie wyniki symulacji przechowywane są w obiekcie `trace`."
   ]
  },
  {
   "cell_type": "code",
   "execution_count": 11,
   "metadata": {
    "colab": {},
    "colab_type": "code",
    "id": "2Qr_1zeDCS9g"
   },
   "outputs": [
    {
     "data": {
      "text/plain": [
       "<MultiTrace: 1 chains, 20000 iterations, 7 variables>"
      ]
     },
     "execution_count": 11,
     "metadata": {},
     "output_type": "execute_result"
    }
   ],
   "source": [
    "trace"
   ]
  },
  {
   "cell_type": "code",
   "execution_count": 12,
   "metadata": {
    "colab": {},
    "colab_type": "code",
    "id": "zTypDFL9CTCM"
   },
   "outputs": [
    {
     "data": {
      "text/plain": [
       "['grypa', 'katar', 'kaszel', 'goraczka', 'p_katar', 'p_kaszel', 'p_goraczka']"
      ]
     },
     "execution_count": 12,
     "metadata": {},
     "output_type": "execute_result"
    }
   ],
   "source": [
    "# zdefiniowane zmienne w naszym modelu\n",
    "trace.varnames"
   ]
  },
  {
   "cell_type": "code",
   "execution_count": 13,
   "metadata": {
    "colab": {},
    "colab_type": "code",
    "id": "Swb9qBMqedQa"
   },
   "outputs": [
    {
     "data": {
      "text/plain": [
       "array([0, 0, 0, ..., 0, 0, 0], dtype=int64)"
      ]
     },
     "execution_count": 13,
     "metadata": {},
     "output_type": "execute_result"
    }
   ],
   "source": [
    "# wygenerowana ścieżka dla zmiennej grypa\n",
    "trace.get_values('grypa') # zwaraca obiekt ndarray"
   ]
  },
  {
   "cell_type": "code",
   "execution_count": 16,
   "metadata": {
    "colab": {},
    "colab_type": "code",
    "id": "UzCDOM0qoCeW"
   },
   "outputs": [
    {
     "data": {
      "image/png": "[encoded data removed]",
      "text/plain": [
       "<Figure size 864x576 with 8 Axes>"
      ]
     },
     "metadata": {
      "needs_background": "light"
     },
     "output_type": "display_data"
    }
   ],
   "source": [
    "# w module pymc3 dostępne są metody do wygernerowania różnego rodzaju wykresów np.\n",
    "axs = pm.traceplot(trace, var_names=['grypa', 'katar', 'kaszel', 'goraczka'])"
   ]
  },
  {
   "cell_type": "markdown",
   "metadata": {
    "colab_type": "text",
    "id": "hnCwTM9jCm7g"
   },
   "source": [
    "### Obliczanie prawdopodobieństw\n",
    "Obliczamy interesujące nas prawdopodobieństwa i porównujemy z przykładem, proste zliczanie:"
   ]
  },
  {
   "cell_type": "markdown",
   "metadata": {
    "colab_type": "text",
    "id": "i44N2HNTpk7u"
   },
   "source": [
    "#### Prawdopodobieństawa bezwarunkowe:"
   ]
  },
  {
   "cell_type": "code",
   "execution_count": 17,
   "metadata": {
    "colab": {},
    "colab_type": "code",
    "id": "nwrFGG_iCTAL"
   },
   "outputs": [
    {
     "name": "stdout",
     "output_type": "stream",
     "text": [
      "p_grypa: 0.09855\n",
      "p_katar: 0.3175\n",
      "p_kaszel: 0.29865\n",
      "p_goraczka: 0.44145\n"
     ]
    }
   ],
   "source": [
    "# bezwarunkowe prawd. grypy (z założenia powinno być 0.1)\n",
    "p_grypa = trace['grypa'].sum()/len(trace['grypa'])\n",
    "print('p_grypa:', p_grypa)\n",
    "\n",
    "# bezwarunkowe prawd. kataru (0.32)\n",
    "p_katar = trace['katar'].sum()/len(trace['katar'])\n",
    "print('p_katar:', p_katar)\n",
    "\n",
    "# bezwarunkowe prawd. kaszlu (0.3)\n",
    "p_kaszel = trace['kaszel'].sum()/len(trace['kaszel'])\n",
    "print('p_kaszel:', p_kaszel)\n",
    "\n",
    "# bezwarunkowe prawd. goraczki (0.44)\n",
    "p_goraczka = trace['goraczka'].sum()/len(trace['goraczka'])\n",
    "print('p_goraczka:', p_goraczka)"
   ]
  },
  {
   "cell_type": "markdown",
   "metadata": {
    "colab_type": "text",
    "id": "DTVoH__fCwtK"
   },
   "source": [
    "#### Prawdopodobieństawa warunkowe:"
   ]
  },
  {
   "cell_type": "code",
   "execution_count": 18,
   "metadata": {
    "colab": {},
    "colab_type": "code",
    "id": "yHbrbma7CvWY"
   },
   "outputs": [
    {
     "name": "stdout",
     "output_type": "stream",
     "text": [
      "p_grypa_katar: 0.15669291338582678\n",
      "p_grypa_kaszel: 0.10195881466599699\n",
      "p_grypa_goraczka: 0.18076792388718993\n",
      "p_grypa_katar_goraczka: 0.27393526405451446\n"
     ]
    }
   ],
   "source": [
    "# prawd. grypy pod warunkiem wystąpienia kataru (0.15625)\n",
    "p_grypa_katar = (trace['grypa']*trace['katar']).sum()/trace['katar'].sum()\n",
    "print('p_grypa_katar:', p_grypa_katar)\n",
    "\n",
    "# prawd. grypy pod warunkiem wystąpienia kaszlu (0.1)\n",
    "p_grypa_kaszel = (trace['grypa']*trace['kaszel']).sum()/trace['kaszel'].sum()\n",
    "print('p_grypa_kaszel:', p_grypa_kaszel)\n",
    "\n",
    "# prawd. grypy pod warunkiem wystąpienia goraczki (0.18182)\n",
    "p_grypa_goraczka = (trace['grypa']*trace['goraczka']).sum()/trace['goraczka'].sum()\n",
    "print('p_grypa_goraczka:', p_grypa_goraczka)\n",
    "\n",
    "# prawd. grypy pod warunkiem wystąpienia kataru i goraczki (0.284(09))\n",
    "p_grypa_katar_goraczka = (trace['grypa']*trace['katar']*trace['goraczka']).sum()/(trace['katar']*trace['goraczka']).sum()\n",
    "print('p_grypa_katar_goraczka:', p_grypa_katar_goraczka)"
   ]
  },
  {
   "cell_type": "markdown",
   "metadata": {
    "colab_type": "text",
    "id": "cZrTqu_LC5p_"
   },
   "source": [
    "__Jak widać mniej więcej się zgadza. I jak to w symulacjach im służsza symulacja tym wyniki powinny być bardziej zbliżone do rzeczywistych.__"
   ]
  },
  {
   "cell_type": "markdown",
   "metadata": {
    "colab_type": "text",
    "id": "2rom-XE7DNTw"
   },
   "source": [
    "## Sieci przekonań\n",
    "Dla ułatwienia można zbudować graf przedstawiający rzeczywiste zależności między zmiennymi losowymi, i po wyznaczeniu ich prawdopodobieństw warunkowych efektywnie obliczać prawdopodobieństwa innych zdarzeń.\n",
    "\n",
    "__Siecią przekonań__ (belief network, Bayesian network, probabilistic network) nazywamy następujący graf:\n",
    "- węzłami sieci są zmienne losowe,\n",
    "- łuki sieci są skierowane, i łuk $X \\to Y$ ma intuicyjne znaczenie: \"zmienna $X$ ma bezpośredni wpływ na $Y$\",\n",
    "- każdy węzeł $X$ ma związaną z nim tablicę prawdopodobieństw warunkowych określających wpływ wywierany na $X$ przez jego rodziców (poprzedników w grafie),\n",
    "- sieć nie może mieć cykli (skierowanych).\n",
    "\n",
    "Budowa sieci polega na wyznaczeniu jej topologii, oraz prawdopodobieństw warunkowych dla węzłów, dla których istnieją bezpośrednie zależności."
   ]
  },
  {
   "cell_type": "markdown",
   "metadata": {
    "colab_type": "text",
    "id": "xImud91SDXy5"
   },
   "source": [
    "## Przykład 4:\n",
    "![sprinkler.PNG](http://torus.uck.pk.edu.pl/~amarsz/images/sprinkler.PNG)"
   ]
  },
  {
   "cell_type": "markdown",
   "metadata": {
    "colab_type": "text",
    "id": "eiO0dwGeqsy5"
   },
   "source": [
    "### Realizacja w `pymc3`"
   ]
  },
  {
   "cell_type": "code",
   "execution_count": 19,
   "metadata": {
    "colab": {},
    "colab_type": "code",
    "id": "14YgPXYYDWuM"
   },
   "outputs": [
    {
     "name": "stderr",
     "output_type": "stream",
     "text": [
      "Sequential sampling (1 chains in 1 job)\n",
      "BinaryGibbsMetropolis: [rain, sprinkler, grass_wet]\n",
      "Sampling chain 0, 0 divergences: 100%|██████████████████████████████████████████| 20500/20500 [00:33<00:00, 603.99it/s]\n",
      "Only one chain was sampled, this makes it impossible to run some convergence checks\n"
     ]
    }
   ],
   "source": [
    "# źródło:\n",
    "# https://bugra.github.io/work/notes/2014-05-23/simple-bayesian-network-via-monte-carlo-markov-chain-mcmc-pymc/\n",
    "# https://gist.github.com/cs224/9a19b4ba2c7511e317be90c32a4d40d7\n",
    "\n",
    "with pm.Model() as model:\n",
    "    rain = pm.Bernoulli('rain', 0.2)\n",
    "    sprinkler_p = pm.Deterministic('sprinkler_p', pm.math.switch(rain, 0.01, 0.40))\n",
    "    sprinkler = pm.Bernoulli('sprinkler', sprinkler_p)\n",
    "    grass_wet_p = pm.Deterministic('grass_wet_p', pm.math.switch(rain, pm.math.switch(sprinkler, 0.99, 0.80), pm.math.switch(sprinkler, 0.90, 0.0)))\n",
    "    grass_wet = pm.Bernoulli('grass_wet', grass_wet_p)\n",
    "\n",
    "    trace = pm.sample(20000, chains=1)"
   ]
  },
  {
   "cell_type": "code",
   "execution_count": 20,
   "metadata": {
    "colab": {},
    "colab_type": "code",
    "id": "8nBYBnnnrAwm"
   },
   "outputs": [
    {
     "data": {
      "text/plain": [
       "array([[<matplotlib.axes._subplots.AxesSubplot object at 0x000001E172C4E588>,\n",
       "        <matplotlib.axes._subplots.AxesSubplot object at 0x000001E172D31C48>],\n",
       "       [<matplotlib.axes._subplots.AxesSubplot object at 0x000001E172D12948>,\n",
       "        <matplotlib.axes._subplots.AxesSubplot object at 0x000001E173720848>],\n",
       "       [<matplotlib.axes._subplots.AxesSubplot object at 0x000001E172841048>,\n",
       "        <matplotlib.axes._subplots.AxesSubplot object at 0x000001E1728C1548>],\n",
       "       [<matplotlib.axes._subplots.AxesSubplot object at 0x000001E172815248>,\n",
       "        <matplotlib.axes._subplots.AxesSubplot object at 0x000001E1729854C8>],\n",
       "       [<matplotlib.axes._subplots.AxesSubplot object at 0x000001E172959248>,\n",
       "        <matplotlib.axes._subplots.AxesSubplot object at 0x000001E1728ECB88>]],\n",
       "      dtype=object)"
      ]
     },
     "execution_count": 20,
     "metadata": {},
     "output_type": "execute_result"
    },
    {
     "data": {
      "image/png": "[encoded data removed]",
      "text/plain": [
       "<Figure size 864x720 with 10 Axes>"
      ]
     },
     "metadata": {
      "needs_background": "light"
     },
     "output_type": "display_data"
    }
   ],
   "source": [
    "pm.traceplot(trace)"
   ]
  },
  {
   "cell_type": "code",
   "execution_count": 21,
   "metadata": {
    "colab": {},
    "colab_type": "code",
    "id": "7kqZ382urDFK"
   },
   "outputs": [
    {
     "name": "stdout",
     "output_type": "stream",
     "text": [
      "p_rain_wet: 0.3715333486133394\n",
      "p_sprinkler_wet: 0.6328214531285813\n",
      "p_not_sprinkler_rain_wet: 0.0\n"
     ]
    }
   ],
   "source": [
    "# Jakie jest prawdopodobieństwo, że podało jeśli wiadomo, że trawa jest mokra? \n",
    "p_rain_wet = (trace['rain']*trace['grass_wet']).sum()/trace['grass_wet'].sum()\n",
    "print('p_rain_wet:', p_rain_wet)\n",
    "\n",
    "# Jakie jest prawdopodobieństwo, że włączył się spryskiwacz jeśli wiadomo, że trawa jest mokra? \n",
    "p_sprinkler_wet = (trace['sprinkler']*trace['grass_wet']).sum()/trace['grass_wet'].sum()\n",
    "print('p_sprinkler_wet:', p_sprinkler_wet)\n",
    "\n",
    "# Jakie jest prawdopodobieństwo, że trawa jest mokra jeśli wiadomo, że spryskiwacz się nie włączył oraz nie padało?\n",
    "p_not_sprinkler_rain_wet = (trace['grass_wet']*np.logical_not(trace['sprinkler'])*np.logical_not(trace['rain'])).sum()/(np.logical_not(trace['sprinkler'])*np.logical_not(trace['rain'])).sum()\n",
    "print('p_not_sprinkler_rain_wet:', p_not_sprinkler_rain_wet)"
   ]
  },
  {
   "cell_type": "markdown",
   "metadata": {
    "colab_type": "text",
    "id": "CMT5t9NWDf2I"
   },
   "source": [
    "__Przejdź do notatnika z Zadaniami i je wykonaj__"
   ]
  },
  {
   "cell_type": "markdown",
   "metadata": {
    "colab_type": "text",
    "id": "C57dALyNj4Se"
   },
   "source": [
    "&copy; Katedra Informatyki, Politechnika Krakowska"
   ]
  }
 ],
 "metadata": {
  "colab": {
   "authorship_tag": "ABX9TyMvh5TAZ6ugeYwyQNVwoMP4",
   "collapsed_sections": [],
   "name": "Bayess_Lab_1.ipynb",
   "provenance": [],
   "toc_visible": true
  },
  "kernelspec": {
   "display_name": "Python 3",
   "language": "python",
   "name": "python3"
  },
  "language_info": {
   "codemirror_mode": {
    "name": "ipython",
    "version": 3
   },
   "file_extension": ".py",
   "mimetype": "text/x-python",
   "name": "python",
   "nbconvert_exporter": "python",
   "pygments_lexer": "ipython3",
   "version": "3.7.6"
  }
 },
 "nbformat": 4,
 "nbformat_minor": 1
}
