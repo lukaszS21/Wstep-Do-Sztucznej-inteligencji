{
 "cells": [
  {
   "cell_type": "markdown",
   "metadata": {
    "colab_type": "text",
    "id": "AMMXLENOd7V-"
   },
   "source": [
    "# Wstęp do Sztucznej Inteligencji - rok akademicki 2019/2020\n",
    "\n",
    "Przed rozpoczęciem pracy z notatnikiem zmień jego nazwę zgodnie z wzorem: `{NrAlbumu}_{Nazwisko}_{Imie}_{PoprzedniaNazwa}`.\n",
    "\n",
    "Przed wysłaniem notatnika upewnij się, że rozwiązałeś wszystkie zadania/ćwiczenia."
   ]
  },
  {
   "cell_type": "markdown",
   "metadata": {
    "colab_type": "text",
    "id": "4ZZF68t-kiQ8"
   },
   "source": [
    "## Zadanie 1  (obowiązkowe, 10pkt.)\n",
    "\n",
    "### Aby wygenerować treść zadania wprowadź swój nr albumu i wykonaj poniższe komórki (Shift + Enter) "
   ]
  },
  {
   "cell_type": "code",
   "execution_count": 6,
   "metadata": {
    "colab": {},
    "colab_type": "code",
    "id": "1wWZXA_2tilS"
   },
   "outputs": [],
   "source": [
    "nr_albumu = '130588'"
   ]
  },
  {
   "cell_type": "code",
   "execution_count": 7,
   "metadata": {
    "colab": {},
    "colab_type": "code",
    "id": "cDbahmaQtvHm"
   },
   "outputs": [
    {
     "ename": "ModuleNotFoundError",
     "evalue": "No module named 'google'",
     "output_type": "error",
     "traceback": [
      "\u001b[1;31m---------------------------------------------------------------------------\u001b[0m",
      "\u001b[1;31mModuleNotFoundError\u001b[0m                       Traceback (most recent call last)",
      "\u001b[1;32m<ipython-input-7-e05bebe8dfda>\u001b[0m in \u001b[0;36m<module>\u001b[1;34m\u001b[0m\n\u001b[0;32m      1\u001b[0m \u001b[1;32mimport\u001b[0m \u001b[0msys\u001b[0m\u001b[1;33m\u001b[0m\u001b[1;33m\u001b[0m\u001b[0m\n\u001b[1;32m----> 2\u001b[1;33m \u001b[1;32mfrom\u001b[0m \u001b[0mgoogle\u001b[0m\u001b[1;33m.\u001b[0m\u001b[0mcolab\u001b[0m \u001b[1;32mimport\u001b[0m \u001b[0mdrive\u001b[0m\u001b[1;33m\u001b[0m\u001b[1;33m\u001b[0m\u001b[0m\n\u001b[0m\u001b[0;32m      3\u001b[0m \u001b[0mdrive\u001b[0m\u001b[1;33m.\u001b[0m\u001b[0mmount\u001b[0m\u001b[1;33m(\u001b[0m\u001b[1;34m'/content/drive'\u001b[0m\u001b[1;33m)\u001b[0m\u001b[1;33m\u001b[0m\u001b[1;33m\u001b[0m\u001b[0m\n\u001b[0;32m      4\u001b[0m \u001b[1;31m# upewniej się że poniższa ścieżka jest poprawna\u001b[0m\u001b[1;33m\u001b[0m\u001b[1;33m\u001b[0m\u001b[1;33m\u001b[0m\u001b[0m\n\u001b[0;32m      5\u001b[0m \u001b[0mpath_nb\u001b[0m \u001b[1;33m=\u001b[0m \u001b[1;34mr'/content/drive/My Drive/Colab Notebooks/WdSI/pl_zadanie/'\u001b[0m\u001b[1;33m\u001b[0m\u001b[1;33m\u001b[0m\u001b[0m\n",
      "\u001b[1;31mModuleNotFoundError\u001b[0m: No module named 'google'"
     ]
    }
   ],
   "source": [
    "import sys\n",
    "from google.colab import drive\n",
    "drive.mount('/content/drive')\n",
    "# upewniej się że poniższa ścieżka jest poprawna\n",
    "path_nb = r'/content/drive/My Drive/Colab Notebooks/WdSI/pl_zadanie/'\n",
    "sys.path.append(path_nb)"
   ]
  },
  {
   "cell_type": "code",
   "execution_count": 8,
   "metadata": {
    "colab": {},
    "colab_type": "code",
    "id": "xdA2ZUhKtvRO"
   },
   "outputs": [
    {
     "ename": "NameError",
     "evalue": "name 'path_nb' is not defined",
     "output_type": "error",
     "traceback": [
      "\u001b[1;31m---------------------------------------------------------------------------\u001b[0m",
      "\u001b[1;31mNameError\u001b[0m                                 Traceback (most recent call last)",
      "\u001b[1;32m<ipython-input-8-786274fc9203>\u001b[0m in \u001b[0;36m<module>\u001b[1;34m\u001b[0m\n\u001b[0;32m      2\u001b[0m \u001b[1;32mfrom\u001b[0m \u001b[0mIPython\u001b[0m\u001b[1;33m.\u001b[0m\u001b[0mdisplay\u001b[0m \u001b[1;32mimport\u001b[0m \u001b[0mHTML\u001b[0m\u001b[1;33m\u001b[0m\u001b[1;33m\u001b[0m\u001b[0m\n\u001b[0;32m      3\u001b[0m \u001b[1;33m\u001b[0m\u001b[0m\n\u001b[1;32m----> 4\u001b[1;33m \u001b[0mzadania\u001b[0m \u001b[1;33m=\u001b[0m \u001b[0mpickle\u001b[0m\u001b[1;33m.\u001b[0m\u001b[0mload\u001b[0m\u001b[1;33m(\u001b[0m\u001b[0mopen\u001b[0m\u001b[1;33m(\u001b[0m\u001b[0mpath_nb\u001b[0m\u001b[1;33m+\u001b[0m\u001b[1;34m'zadania.pkl'\u001b[0m\u001b[1;33m,\u001b[0m \u001b[1;34m'rb'\u001b[0m\u001b[1;33m)\u001b[0m\u001b[1;33m)\u001b[0m\u001b[1;33m\u001b[0m\u001b[1;33m\u001b[0m\u001b[0m\n\u001b[0m\u001b[0;32m      5\u001b[0m \u001b[0mnr\u001b[0m \u001b[1;33m=\u001b[0m \u001b[0mint\u001b[0m\u001b[1;33m(\u001b[0m\u001b[0mnr_albumu\u001b[0m\u001b[1;33m)\u001b[0m \u001b[1;33m%\u001b[0m \u001b[0mlen\u001b[0m\u001b[1;33m(\u001b[0m\u001b[0mzadania\u001b[0m\u001b[1;33m)\u001b[0m\u001b[1;33m\u001b[0m\u001b[1;33m\u001b[0m\u001b[0m\n\u001b[0;32m      6\u001b[0m \u001b[0mprzyjaciele\u001b[0m \u001b[1;33m=\u001b[0m \u001b[0mzadania\u001b[0m\u001b[1;33m[\u001b[0m\u001b[0mnr\u001b[0m\u001b[1;33m]\u001b[0m\u001b[1;33m[\u001b[0m\u001b[1;34m'przyjaciele'\u001b[0m\u001b[1;33m]\u001b[0m\u001b[1;33m\u001b[0m\u001b[1;33m\u001b[0m\u001b[0m\n",
      "\u001b[1;31mNameError\u001b[0m: name 'path_nb' is not defined"
     ]
    }
   ],
   "source": [
    "import pickle\n",
    "from IPython.display import HTML\n",
    "\n",
    "zadania = pickle.load(open(path_nb+'zadania.pkl', 'rb'))\n",
    "nr = int(nr_albumu) % len(zadania)\n",
    "przyjaciele = zadania[nr]['przyjaciele']\n",
    "zwierzeta = zadania[nr]['zwierzeta']\n",
    "fakty = ['{}. {}'.format(i+1, s) for i,s in enumerate(zadania[nr]['fakty'])]\n",
    "\n",
    "tresc = \"\"\"<HTML><BODY><H3>Zadania dla numeru albumu: {}.<br>Zadanie nr {}.</H3><br>\n",
    "Przyjaciele:<br>\n",
    "<b>{}</b> <br> mieszkają w jednym budynku, każdy na innym piętrze (0, 1, 2, ...).\n",
    "<br><br>\n",
    "Każdy z nich ma inne zwierzę:<br>\n",
    "<b>{}</b><br><br>\n",
    "Na którym piętrze mieszka każdy z nich i jakie ma zwierzę, jeśli następujące zdania są prawdą?<br>\n",
    "<b>{}</b></BODY></HTML>\"\"\".format(nr_albumu, nr+1, ' '.join(przyjaciele),' '.join(zwierzeta),'<br>'.join(fakty))\n",
    "HTML(tresc)"
   ]
  },
  {
   "cell_type": "markdown",
   "metadata": {
    "colab_type": "text",
    "id": "8ODf7GQ2eLho"
   },
   "source": [
    "### Instrukcje\n",
    "\n",
    "- Rozwiąż przydzielone sobie zadanie za pomocą odpowiedniego programu w Prologu.\n",
    "- W komórce TWÓJ PROGRAM przedstaw ten program.\n",
    "- W komórce ODPOWIEDŹ podaj rozwiązanie w postaci:\n",
    "```\n",
    "Jarek 0 kot\n",
    "Franek 3 chomik\n",
    "Stefan 1 rybka\n",
    "...\n",
    "```"
   ]
  },
  {
   "cell_type": "markdown",
   "metadata": {
    "colab_type": "text",
    "id": "9B7YUblnktrz"
   },
   "source": [
    ":("
   ]
  },
  {
   "cell_type": "markdown",
   "metadata": {
    "colab_type": "text",
    "id": "lFD4AIrBffbv"
   },
   "source": [
    "jest(OS, IM, NR, ZW) :-\n",
    "    OS = (A, _, _, _, _, _,_),\n",
    "    A = (IM, NR,ZW).\n",
    "jest(OS, IM, NR,ZW) :-\n",
    "    OS = (_, B, _, _, _, _,_),\n",
    "    B = (IM, NR,ZW).\n",
    "jest(OS,IM, NR,ZW) :-\n",
    "    OS= (_, _, C, _, _, _,_),\n",
    "    C = (IM, NR,ZW).\n",
    "jest(OS, IM, NR,ZW) :-\n",
    "    OS = (_, _, _, D, _, _,_),\n",
    "    D = (IM, NR,ZW).\n",
    "jest(OS, IM, NR,ZW) :-\n",
    "    OS = (_, _, _, _, E, _,_),\n",
    "    E = (IM, NR,ZW).\n",
    "jest(OS, IM, NR,ZW) :-\n",
    "    OS = (_, _, _, _, _, F,_),\n",
    "    F = (IM, NR,ZW).\n",
    "jest(OS, IM, NR,ZW) :-\n",
    "    OS= (_, _, _, _, _, _,G),\n",
    "    G = (IM, NR,ZW).\n",
    "\n",
    "\n",
    "nad(X,Y) :- X>Y.\n",
    "pod(X,Y) :- X<Y.\n",
    "\n",
    "    roz(O) :-\n",
    "\tO=(P0,P1,P2,P3,P4,P5,P6),\n",
    "    P0=(jarek,JZ,JP),\n",
    "    P1=(franek,FZ,FP),\n",
    "    P2=(stefan,SZ,SP),\n",
    "    P3=(albert,AZ,AP),\n",
    "    P4=(szymon,SZZ,SZP),\n",
    "    P5=(robert,RZ,RP),\n",
    "    P6=(marcin,MZ,MP),\n",
    "    jest(O,_,waz,6),\n",
    "    jest(O,_,pies,0),\n",
    "    jest(O,_,chomik,5),\n",
    "     jest(O,_,papuga,3),\n",
    "    jest(O,_,kot,4),\n",
    "    \n",
    "    jest(O,_,rybka,1),\n",
    "    jest(O,_,kanarek,2),\n",
    "    jest(O,robert,RZ,_),\n",
    "    RZ\\=waz,\n",
    "    \n",
    "    pod(FP,SP),\n",
    "   \n",
    "    pod(FP,RP),\n",
    "    \n",
    "    pod(SZP,RP),\n",
    "\n",
    "    nad(SP,SZP),\n",
    "    jest(O,albert,AZ,_),\n",
    "    AZ\\=waz,\n",
    "    nad(SP,MP),\n",
    "    \n",
    "    jest(O,robert,RZ,_),\n",
    "    RZ\\=rybka,\n",
    "    jest(O,jarek,JZ,_),\n",
    "    JZ\\=chomik,\n",
    "    nad(RP,AP),\n",
    "    jest(O,stefan,SZ,_),\n",
    "    SZ\\=kanarek,\n",
    "    nad(AP,JP),\n",
    "    jest(O,szymon,SZZ,_),\n",
    "    SZZ\\=kot,\n",
    "    nad(SZP,AP),\n",
    "    nad(MP,RP),\n",
    "    jest(O,albert,AZ,_),\n",
    "    AZ\\=kot,\n",
    "    pod(JP,SP),\n",
    "    jest(O,albert,AZ,_),\n",
    "    AZ\\=chomik,\n",
    "    nad(MP,FP),\n",
    "    pod(JP,FP),\n",
    "    pod(FP,AP),\n",
    "    nad(SZP,FP),\n",
    "    nad(MP,SZP),\n",
    "    nad(MP,JP),\n",
    "    jest(O,jarek,JZ,_),\n",
    "    JZ\\=papuga.\n",
    "   \n",
    "    \n",
    "    \n",
    "  \n",
    "    \n",
    "     \n",
    "         \n",
    "  \tYOUR ANSWER HERE"
   ]
  },
  {
   "cell_type": "markdown",
   "metadata": {
    "colab_type": "text",
    "id": "l_vcZLlxh19H"
   },
   "source": [
    "### ODPOWIEDŹ:"
   ]
  },
  {
   "cell_type": "markdown",
   "metadata": {
    "colab_type": "text",
    "id": "l-OhAVorh9ow"
   },
   "source": [
    "Jarek,0,pies\n",
    "franek 1 ryba\n",
    "stefan 6 waz\n",
    "albert 2 kanarek\n",
    "szymon 3 papuga\n",
    "robert 4 kot\n",
    "marcin 5 chomik"
   ]
  },
  {
   "cell_type": "markdown",
   "metadata": {
    "colab_type": "text",
    "id": "C57dALyNj4Se"
   },
   "source": [
    "&copy; Katedra Informatyki, Politechnika Krakowska"
   ]
  }
 ],
 "metadata": {
  "colab": {
   "authorship_tag": "ABX9TyOsEG7sQn5/BeoPqUZfnksk",
   "collapsed_sections": [],
   "name": "Prolog_Zadanie.ipynb",
   "provenance": [],
   "toc_visible": true
  },
  "kernelspec": {
   "display_name": "Python 3",
   "language": "python",
   "name": "python3"
  },
  "language_info": {
   "codemirror_mode": {
    "name": "ipython",
    "version": 3
   },
   "file_extension": ".py",
   "mimetype": "text/x-python",
   "name": "python",
   "nbconvert_exporter": "python",
   "pygments_lexer": "ipython3",
   "version": "3.7.6"
  }
 },
 "nbformat": 4,
 "nbformat_minor": 1
}
