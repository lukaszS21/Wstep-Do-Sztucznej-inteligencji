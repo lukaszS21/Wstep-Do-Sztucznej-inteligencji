{
 "cells": [
  {
   "cell_type": "markdown",
   "metadata": {
    "colab_type": "text",
    "id": "AMMXLENOd7V-"
   },
   "source": [
    "# Wstęp do Sztucznej Inteligencji - rok akademicki 2019/2020\n",
    "\n",
    "Przed rozpoczęciem pracy z notatnikiem zmień jego nazwę zgodnie z wzorem: `{NrAlbumu}_{Nazwisko}_{Imie}_{PoprzedniaNazwa}`.\n",
    "\n",
    "Przed wysłaniem notatnika upewnij się, że rozwiązałeś wszystkie zadania/ćwiczenia."
   ]
  },
  {
   "cell_type": "markdown",
   "metadata": {
    "colab_type": "text",
    "id": "4ZZF68t-kiQ8"
   },
   "source": [
    "# Temat: Optymalizacja globalna: Prosty algorytm genetyczny cz. II\n",
    "Głownym celem zajęć poświęconych alorytmom genetycznym jest stworzenie od podstaw (implentacja) prostego algorytmu genetycznego i późniejsze wykorzystanie go do rozwiązania przykładowych zadań optymalizacji globalnej.\n",
    "\n",
    "W tym notatniku będą Państwo mieli za zadanie zaimplementować trzy operatory genetyczne (trzy funkcje) wykonywane w głównej pętli algorytmu genetycznego. \n",
    "\n",
    "__Ważne:__ Wszystkie te funkcja wykonywane będą w każdej iteracji algorytmu należy zatem zadbać o to aby było ona zaimplementowana w sposób wydajny."
   ]
  },
  {
   "cell_type": "markdown",
   "metadata": {
    "colab_type": "text",
    "id": "cwgxhLoJ1uGq"
   },
   "source": [
    "## Import biblioteki numpy\n",
    "Wszystkie funkcje należy tworzyć z wykorzystaniem biblioteki `numpy`."
   ]
  },
  {
   "cell_type": "code",
   "execution_count": 7,
   "metadata": {
    "colab": {},
    "colab_type": "code",
    "id": "5Ay9yE_f17t_"
   },
   "outputs": [],
   "source": [
    "import numpy as np\n",
    "import math"
   ]
  },
  {
   "cell_type": "markdown",
   "metadata": {
    "colab_type": "text",
    "id": "xTpCaibN1Ccp"
   },
   "source": [
    "## Przykładowa funkcja celu\n",
    "Zadanie optymalizacji w wielu przypadakach sproawadza się optymalizacji odpowiednio sformułowanej funkcj, tzw. funkcji celu. Poniżej przykładowa prosta funkcja umożliwiająca testowanie zaimplemetowanych funkcji.  "
   ]
  },
  {
   "cell_type": "code",
   "execution_count": 8,
   "metadata": {
    "colab": {},
    "colab_type": "code",
    "id": "MDoK-uWZhhD7"
   },
   "outputs": [],
   "source": [
    "# testowa funkcja celu\n",
    "# x - jednowymiarowa tablica ndarray\n",
    "def obj_func(x):\n",
    "    return (x**2).sum()"
   ]
  },
  {
   "cell_type": "markdown",
   "metadata": {
    "colab_type": "text",
    "id": "rx6b2MiJ2tig"
   },
   "source": [
    "Przykład wywołania.\n",
    "\n",
    "Wektor `x` to tak zwany osobnik, czyli jedno z możliwych (dopuszczalnych) rozwiązań.  "
   ]
  },
  {
   "cell_type": "code",
   "execution_count": 9,
   "metadata": {
    "colab": {},
    "colab_type": "code",
    "id": "jMNPVnxKmRsa"
   },
   "outputs": [
    {
     "name": "stdout",
     "output_type": "stream",
     "text": [
      "14.86\n"
     ]
    }
   ],
   "source": [
    "# przykład wywołania\n",
    "x = np.array([1.2, 0.1, 3, 2.1])\n",
    "print(obj_func(x))"
   ]
  },
  {
   "cell_type": "markdown",
   "metadata": {
    "colab_type": "text",
    "id": "9B7YUblnktrz"
   },
   "source": [
    "## Selekcja: Metoda koła ruletki\n",
    "Metoda ruletki (koła ruletki)– jedna z najbardziej podstawowych metod selekcji. Polega na utworzeniu koła ruletki z polami odpowiadającymi poszczególnym osobnikom. Wielkość pól jest proporcjonalna do wartości funkcji przystosowania (celu). Proces selekcji oparty jest na obrocie ruletką tyle razy ile osobników jest w populacji i na wyborze za każdym razem jednego osobnika do nowej populacji. Pewne osobniki są wybierane więcej niż jeden raz, niektóre dokładnie raz, a niektóre wcale.\n",
    "\n",
    "Koło ruletki w praktyce:\n",
    "- Koło zestępujemy odcinkiem $[0,1]$, który dzielimy na tyle podprzedziałów ile osobników w populacji.\n",
    "- Rozmiar każdego podprzedziału jest proporcjonalny do wartość funkcji celu danego osobnika, tzn. im większa wartość funkcji celu tym odcinek powinnien być większy. Ponieważ cały odcinek ma długośc 1 to rozmiary podprzedziałów można utożsamoć z prawdopodobieństwe przejścia osobnika do nowej populacji i policzyć ze wzoru $p_i= \\frac{e_i}{\\sum_i{e_i}}$, gdzie $i$ to numer osobnika, a $e_i$ to wartość funkcji celu $i$-tego osobnika.\n",
    "- Zamiast kręcić kołem, losujemy liczbę z przedziału $[0,1]$ i sprawdzamy w którym podprzedziale się ona zawiera i osobnika o numerze zgodnym z numerem tego podprzedziału wybieramy do nowej populacji.  \n",
    "\n",
    "Warto zwrócić na fakt, że tak zaproponowany wzór na długości przedziałów $p_i$ zadziała tylko wtedy gdy wszystkie wartości funkcji celu będą dodatnie. Aby to zapewnić wystarczy na początku do wektora wartości funkcji celu dodać odpowiednią stałą zapewniającą dodatniość (lub przynajmniej nieujemność) wszystkich elementów.\n",
    "\n"
   ]
  },
  {
   "cell_type": "markdown",
   "metadata": {
    "colab_type": "text",
    "id": "5xPZCNLQ2zKO"
   },
   "source": [
    "### Zadanie 1:\n",
    "Zaimplementuj operator selekcji. Selekcja metodą koła ruletki.\n",
    "\n",
    "Argumenty funkcji:\n",
    "- `pop` - populacja zakodowanych osobników, tablica `ndarray`.\n",
    "- `evaluated_pop` - tablica `ndarray` ocen osobników.\n",
    "- `new_pop` - nowa populacja wybranych osobników (zakodowanych), tablica `ndarray`."
   ]
  },
  {
   "cell_type": "code",
   "execution_count": 10,
   "metadata": {
    "colab": {},
    "colab_type": "code",
    "id": "roJLXMvG4Dgx"
   },
   "outputs": [],
   "source": [
    "def roulette(pop, evaluated_pop):\n",
    "    minn =np.min(evaluated_pop)\n",
    "    if minn <=0:\n",
    "        tem=evaluated_pop+np.abs(minn)+1\n",
    "    else:\n",
    "        tem=evaluated_pop[:]\n",
    "    \n",
    "    x=np.cumsum(tem).tolist()\n",
    "    x.insert(0,0.0)\n",
    "    new_pop =[]\n",
    "    for i in range(len(pop)):\n",
    "        r=np.random.random()*x[-1]\n",
    "        for j in range(1,len(s)):\n",
    "            if x[j-1] < r<x[j]:\n",
    "                new_pop.append(pop[j-1])\n",
    "                break\n",
    "    new_pop=np.array(new_pop)\n",
    "    return new_pop"
   ]
  },
  {
   "cell_type": "markdown",
   "metadata": {
    "colab_type": "text",
    "id": "VWilOQkE_yA8"
   },
   "source": [
    "## Krzyżowanie\n",
    "Operacja krzyżowania polega na wymianie fragmentów łańcuchów dwóch osobników rodzicielskich. Krzyżowanie jest kluczowym operatorem w algorytmach genetycznych, stanowiącym o ich sile i efektywności.\n",
    "\n",
    "Ideą operatorów krzyżowania jest wymiana kodu genetycznego pomiędzy osobnikami, tak jak to się dzieje w naturze. Stworzono wiele teorii i rodzajów krzyżowań, które stosowane są do różnych rodzajów zadań i są zależne od sposobu kodowania. Dla potrzeb klasycznego algorytmu genetycznego opisano operator krzyżowania jednopunktowego. \n",
    "\n",
    "Krzyżowanie jednopunktowe – krzyżowanie zachodzi z pewnym prawdopodobieństwem `pk`; dla każdego osobnika losuje się liczbę i sprawdza, czy zachodzi krzyżowanie. Następnie dobiera się wybrane osobniki losowo w pary. Losuje się liczbę określającą miejsce krzyżowania i wymienia kod.\n",
    "\n",
    "Podpowiedź: w praktyce krzyżowanie to można zaimplementować na dwa sposoby.\n",
    "\n",
    "Sposób 1. Mając tablicę `pop` z parzystą liczbą osobników jako wiersze, dla każdych kolejnych dwóch wierszy wylosuj liczbę losową z przedziału `[0,1]`. Jeśli jest ona mniejsza niż prawdopodobieństwo krzyżowania, skrzyżuj osobniki i oboje potomków umieść w populacji wynikowej. Jeśli wartość losowa jest większa niż prawdopodobieństwo krzyżowania, skopiuj oboje rodziców do populacji wynikowej. \n",
    "\n",
    "Sposób 2. Mając tablicę `pop` z dowolną (niekoniecznie parzystą) liczbą osobników jako wiersze, dla każdego wiersza wylosuj liczbę losową z przedziału `[0,1]`. Jeśli jest ona mniejsza niż prawdopodobieństwo krzyżowania, skrzyżuj osobnika z osobnikiem w następnym wierszu i dowolnego z potomków (jednego!) umieść w populacji wynikowej. Jeśli wartość losowa jest większa niż prawdopodobieństwo krzyżowania, skopiuj aktualny wiersz do populacji wynikowej. Uwaga: ostatni wiersz krzyżowany jest z pierwszym (następnym w sensie \"modulo\").\n",
    "\n",
    "![krzyzowanie.PNG](http://torus.uck.pk.edu.pl/~amarsz/images/krzyzowanie.PNG)\n",
    "\n",
    "\n"
   ]
  },
  {
   "cell_type": "markdown",
   "metadata": {
    "colab_type": "text",
    "id": "lFD4AIrBffbv"
   },
   "source": [
    "### Zadanie 2\n",
    "Zaimplementuj operator krzyżowania. Krzyżowanie jedno-punktowe.\n",
    "\n",
    "Argumenty funkcji:\n",
    "- `pop` - populacja zakodowanych osobników, tablica `ndarray`.\n",
    "- `pk` - prawdopodobieństwo krzyżowania dla pary osobników. Liczba rzeczywista z przedziału $[0,1]$.\n",
    "- `new_pop` - nowa populacja osobników po krzyżowaniu (zakodowanych), tablica `ndarray`."
   ]
  },
  {
   "cell_type": "code",
   "execution_count": 11,
   "metadata": {
    "colab": {},
    "colab_type": "code",
    "id": "wiUvCib9A6cc"
   },
   "outputs": [],
   "source": [
    "def cross(pop, pk):\n",
    "    new_pop=pop.copy()\n",
    "    for i in range(0,len(pop),2):\n",
    "        if i+1>=len(pop):\n",
    "            break\n",
    "        r=np.random.random()\n",
    "        if r<pk:\n",
    "            nb=np.random.randint(1,len(pop[i]))\n",
    "            tem=new_pop[i,:].copy()\n",
    "            new_pop[i,:nb]=new_pop[i+1,:nb]\n",
    "            new_pop[i+1,:nb]=tem[:nb]\n",
    "    return new_pop"
   ]
  },
  {
   "cell_type": "markdown",
   "metadata": {
    "colab_type": "text",
    "id": "l_vcZLlxh19H"
   },
   "source": [
    "## Mutacja\n",
    "Mutacja polega na wprowadzeniu do istniejących, zakodowanych osobników, pewnych losowych zmian. Mutacja tworzy nowego osobnika na bazie jednego i tylko jednego rodzica. Jest wiele metod tworzenia nowych osobników za pomocą operatora mutacji.\n",
    "\n",
    "Podstawową formę mutacji można zapisać następująco:\n",
    "$$x'= m(x)$$\n",
    "gdzie: $x$ jest osobnikiem rodzica, $m$ funkcją mutacji, $x'$ to potomek, osobnik zmutowany.\n",
    "\n",
    "Mutacja również zachodzi z pewnym zadanym prawdopodobieństwem `pm`. Można ją zaimplementować na dwa sposoby.\n",
    "\n",
    "Sposób 1. Dla każdego osobnika losuje się liczbę sprawdzając czy będzie on podlegał mutacji. Jeśli tak to losuje się gen, który będzie zmutowany i dokonuje się mutacji (tu: negacja bitu). \n",
    "\n",
    "Sposób 2. Dla danego osobnika, dla każdego genu (bitu) osobno losuje się liczbę sprawdzającą czy będzie podlegał mutacji. Jeśli tak, dokonuje się jego mutacji (u nas: negacja bitu).\n",
    "\n",
    "Mutacja w klasycznym algorytmie genetycznym odgrywa drugorzędną rolę. Częstość mutacji potrzebna do uzyskania dobrych wyników w empirycznych badaniach nad algorytmami genetycznymi jest rzędu jeden do tysiąca skopiowanych bitów. W naturalnych populacjach częstość jest równie mała lub nawet mniejsza. \n",
    "\n",
    "W przypadku osobników zakodowanych binarnie (klasyczny algorytm genetyczny) nie ma problemu ze stosowaniem mutacji (po prostu zamieniamy wartość genu na przeciwny). "
   ]
  },
  {
   "cell_type": "markdown",
   "metadata": {
    "colab_type": "text",
    "id": "l-OhAVorh9ow"
   },
   "source": [
    "### Zadanie 3\n",
    "Zaimplementuj operator mutacji. Mutacja bitowa.\n",
    "\n",
    "Argumenty funkcji:\n",
    "- `pop` - populacja zakodowanych osobników, tablica `ndarray`.\n",
    "- `pm` prawdopodobieństwo mutacji dla pojedynczego bitu. Liczba rzeczywista z przedziału $[0,1]$.\n",
    "- `new_pop` - nowa populacja osobników po mutacji (zakodowanych), tablica `ndarray`."
   ]
  },
  {
   "cell_type": "code",
   "execution_count": 12,
   "metadata": {
    "colab": {},
    "colab_type": "code",
    "id": "kbBHd2HOEB5P"
   },
   "outputs": [],
   "source": [
    "def mutate(pop, pm):\n",
    "    new_population = []\n",
    "    for i in range(len(pop)):\n",
    "        new_population.append([])  \n",
    "        for j in range(len(pop[i])):\n",
    "            new_population[i].append(pop[i][j])  \n",
    "            if (np.random.random() < pm):\n",
    "                new_population[i][j] ^= 1 \n",
    "    return new_pop"
   ]
  },
  {
   "cell_type": "markdown",
   "metadata": {
    "colab_type": "text",
    "id": "C57dALyNj4Se"
   },
   "source": [
    "&copy; Katedra Informatyki, Politechnika Krakowska"
   ]
  }
 ],
 "metadata": {
  "colab": {
   "collapsed_sections": [],
   "name": "Gen_Lab_2_poprawkiMB.ipynb",
   "provenance": [],
   "toc_visible": true
  },
  "kernelspec": {
   "display_name": "Python 3",
   "language": "python",
   "name": "python3"
  },
  "language_info": {
   "codemirror_mode": {
    "name": "ipython",
    "version": 3
   },
   "file_extension": ".py",
   "mimetype": "text/x-python",
   "name": "python",
   "nbconvert_exporter": "python",
   "pygments_lexer": "ipython3",
   "version": "3.7.6"
  }
 },
 "nbformat": 4,
 "nbformat_minor": 1
}
