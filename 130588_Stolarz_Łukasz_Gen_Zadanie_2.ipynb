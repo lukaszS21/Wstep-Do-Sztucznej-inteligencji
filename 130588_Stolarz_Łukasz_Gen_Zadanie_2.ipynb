{
 "cells": [
  {
   "cell_type": "markdown",
   "metadata": {
    "colab_type": "text",
    "id": "AMMXLENOd7V-"
   },
   "source": [
    "# Wstęp do Sztucznej Inteligencji - rok akademicki 2019/2020\n",
    "\n",
    "Przed rozpoczęciem pracy z notatnikiem zmień jego nazwę zgodnie z wzorem: `{NrAlbumu}_{Nazwisko}_{Imie}_{PoprzedniaNazwa}`.\n",
    "\n",
    "Przed wysłaniem notatnika upewnij się, że rozwiązałeś wszystkie zadania/ćwiczenia."
   ]
  },
  {
   "cell_type": "markdown",
   "metadata": {
    "colab_type": "text",
    "id": "4ZZF68t-kiQ8"
   },
   "source": [
    "# Temat: Optymalizacja globalna: Problem plecakowy - Zadania\n",
    "Zapoznaj się z treścią niniejszego notatnika czytając i wykonując go komórka po komórce. Wykonaj napotkane zadania/ćwiczenia.\n"
   ]
  },
  {
   "cell_type": "markdown",
   "metadata": {
    "colab_type": "text",
    "id": "iDuqrbcsyZ3A"
   },
   "source": [
    "## Problem plecakowy\n",
    "Problem plecakowy to problem optymalizacji dyskretnej. W swojej najprostszej wersji może być sformułowany następująco.\n",
    "\n",
    "Spośród `N` dostępnych przedmiotów możmy zabrać taką ich liczbę by suma ich wag nie przekraczała pewnej dopuszczalnej wartości (maksymalne obciążenie plecaka). Każdy przedmiot, oprócz wagi, ma przypisaną swoją wartość. \n",
    "\n",
    "Które przedmioty zabrać, aby ich sumaryczna wartość była jak największa, ale ich sumaryczna waga nie przekraczała dopuszczalnej maksymalnej wagi plecaka?\n",
    "\n",
    "Mamy zatem do czynienia z problemem optymalizacji z ograniczeniami.\n",
    "\n",
    "Przeczytaj więcej o problemie plecakowym: https://pl.wikipedia.org/wiki/Problem_plecakowy"
   ]
  },
  {
   "cell_type": "markdown",
   "metadata": {
    "colab_type": "text",
    "id": "Cj6ZGhJ3ogo9"
   },
   "source": [
    "## Prosty generator problemu plecakowego (0-1 knapsack problem)\n",
    "\n",
    "Generujemy listę przedmiotów, z losowymi wagami oraz wartościami z podanych przedziałów."
   ]
  },
  {
   "cell_type": "code",
   "execution_count": 5,
   "metadata": {
    "colab": {},
    "colab_type": "code",
    "id": "J6Srhl63ofTu"
   },
   "outputs": [],
   "source": [
    "import numpy as np\n",
    "import matplotlib.pyplot as plt\n",
    "#%matplotlib notebook\n",
    "\n",
    "#wmin - minimalna waga przedmiotu\n",
    "#wmax - maksymalna waga przedmiotu\n",
    "#vmin - minimalna wartość przedmiotu\n",
    "#vmax - maksymalna wartość przedmiotu\n",
    "#items_num - liczba dostępnych przedmiotów\n",
    "def generate_problem(wmin, wmax, vmin, vmax, items_num):\n",
    "    w = np.random.randint(wmin, wmax, size=items_num)  #weight\n",
    "    v = np.random.randint(vmin, vmax, size=items_num)  #values\n",
    "    return w, v"
   ]
  },
  {
   "cell_type": "markdown",
   "metadata": {
    "colab_type": "text",
    "id": "UdbSxcYTy1kf"
   },
   "source": [
    "Przykładowy problem plecakowy (zwróć uwagę, że możemy zagwarantować generowanie za każdym razem tego samego problemu poprzez ustawienie ziarna generatora liczb losowych)."
   ]
  },
  {
   "cell_type": "code",
   "execution_count": 6,
   "metadata": {
    "colab": {},
    "colab_type": "code",
    "id": "Z3H2tbvoy_Tb"
   },
   "outputs": [
    {
     "name": "stdout",
     "output_type": "stream",
     "text": [
      "Problem plecakowy:\n",
      "pojemnosc plecaka: 1140\n",
      "wagi: [29 56 82 13 35 53 25 23 21 12 15  9 13 87  9 63 62 52 43 77 95 79 77  5\n",
      " 78 41 10 10 88 19  1 37  9 70 22 82 46 51 97 46 12 32 56 30 86 45 99 89\n",
      "  1 88] suma: 2280\n",
      "wartosci: [94 48 26 65 53 54 76 48 98 63 67 74 40 41 76  8 10 78 18 79 92 23  3 64\n",
      " 22 43 24 75  8 36 78  6 98 33 49 31 15 21 30 44 14 75 55 22 71 95 94  9\n",
      " 68 65] suma: 2479\n"
     ]
    }
   ],
   "source": [
    "num = 50  # liczba przedmiotów\n",
    "wmin = 1  # minimlana waga\n",
    "wmax = 100  # maksymalna waga\n",
    "vmin = 1  # minimalna wartosc\n",
    "vmax = 100  # maksymalna wartosc\n",
    "knapsack_perc = 0.5  # pojemnosc plecaka jako procent sumy wag wszystkich przedmiotow\n",
    "\n",
    "# ustawienie ziarna\n",
    "np.random.seed(1111)\n",
    "\n",
    "w, v = generate_problem(wmin, wmax, vmin, vmax, num)  # w - wagi, v - wartosci\n",
    "Wall = w.sum()\n",
    "Vall = v.sum()\n",
    "W = int(knapsack_perc * Wall) # pojemnosc plecaka\n",
    "\n",
    "print('Problem plecakowy:')\n",
    "print('pojemnosc plecaka:', W)\n",
    "print('wagi:',w, 'suma:', Wall)\n",
    "print('wartosci:',v, 'suma:', Vall)"
   ]
  },
  {
   "cell_type": "markdown",
   "metadata": {
    "colab_type": "text",
    "id": "9B7YUblnktrz"
   },
   "source": [
    "## Zadanie 1 (obowiązkowe, 1pkt.) - rozwiązanie metodą brute force\n",
    "\n",
    "Mamy problem plecakowy ze 100 przedmiotami. Chcemy sprawdzić każde możliwe rozwiązanie. Jeśli w ciągu sekundy moglibyśmy sprawdzić miliard rozwiązań, to ile lat by to trwało? Przyjmij, że rok ma 365 dni.\n",
    "\n",
    "Otrzymaną liczbę lat przypisz do zmiennej o nazwie `liczba_lat`. Wynik zaokrąglij do pełnych lat w dół."
   ]
  },
  {
   "cell_type": "code",
   "execution_count": 7,
   "metadata": {
    "colab": {},
    "colab_type": "code",
    "id": "GlH1hmjsoI1w"
   },
   "outputs": [
    {
     "name": "stdout",
     "output_type": "stream",
     "text": [
      "Sprawdzanie zajmie: 40196936841331 lat\n"
     ]
    }
   ],
   "source": [
    "liczba_lat_f = (2**100)/1000000000/60/60/24/365\n",
    "liczba_lat = int(liczba_lat_f)\n",
    "print('Sprawdzanie zajmie: {} lat'.format(liczba_lat))"
   ]
  },
  {
   "cell_type": "markdown",
   "metadata": {
    "colab_type": "text",
    "id": "OeQi2d4srfNv"
   },
   "source": [
    "## Kodowanie rozwiązania\n",
    "\n",
    "Potencjalne rozwiązanie problemu plecakowego można zakodować jako wektor `0`/`1`, gdzie `1` oznacza wybranie przedmiotu do plecaka.\n",
    "\n",
    "Warto skorzystać z kodowania `True`/`False` i tablic `numpy`, gdyż ułatwi to obliczenia (macierze True/False mogą służyć do indeksowania innych macierzy).\n",
    "\n",
    "Przykładowo:"
   ]
  },
  {
   "cell_type": "code",
   "execution_count": 8,
   "metadata": {
    "colab": {},
    "colab_type": "code",
    "id": "HbbAmNT8sqE1"
   },
   "outputs": [
    {
     "name": "stdout",
     "output_type": "stream",
     "text": [
      "Rozwiązanie: [False  True False False False False False  True False  True False  True\n",
      " False False False  True False  True  True False  True  True  True False\n",
      "  True  True False  True  True  True False False  True False False  True\n",
      "  True  True False  True False False False False False  True  True  True\n",
      " False False]\n",
      "Lista wybranych przedmiotow: [ 1  7  9 11 15 17 18 20 21 22 24 25 27 28 29 32 35 36 37 39 45 46 47]\n",
      "Suma wag: 1212\n",
      "Suma wartosci: 1046\n"
     ]
    }
   ],
   "source": [
    "num = w.shape[0]\n",
    "sol = np.random.randint(0, 2, size=num, dtype=np.bool)  # True oznacza, ze przedmiot jest wybrany\n",
    "\n",
    "print('Rozwiązanie:', sol)\n",
    "print('Lista wybranych przedmiotow:', np.arange(num)[sol])\n",
    "print('Suma wag:', w[sol].sum())\n",
    "print('Suma wartosci:', v[sol].sum())"
   ]
  },
  {
   "cell_type": "markdown",
   "metadata": {
    "colab_type": "text",
    "id": "YHZlFkADz8Yu"
   },
   "source": [
    "## Rozwiązania dopuszczalne i niedopuszczalne - procedura naprawcza\n",
    "\n",
    "Jeśli suma wag przekracza pojemność plecaka, to rozwiązanie jest rozwiązaniem niedopuszczalnym i jest całkowicie nieprzydatne.\n",
    "\n",
    "Rozwiązanie niedopuszczalne można poddać procedurze naprawczej. Przykładowo, poniższa funkcja usuwa przedmioty z plecaka, dopóki nie powstanie rozwiązanie dopuszczalne."
   ]
  },
  {
   "cell_type": "code",
   "execution_count": 9,
   "metadata": {
    "colab": {},
    "colab_type": "code",
    "id": "exNB-91A0CHj"
   },
   "outputs": [],
   "source": [
    "# Usuwa losowe przedmioty, aż rozwiązanie stanie się dopuszczalne\n",
    "# Jesli rowziazanie jest dopuszczlane, nie zostanie zmienione\n",
    "def correct_solution(w, v, W, sol):\n",
    "    num = w.shape[0]\n",
    "    while w[sol].sum() > W:\n",
    "        indx = np.random.randint(num)\n",
    "        while sol[indx%num] == False:\n",
    "            indx = indx + 1\n",
    "        sol[indx%num] = False"
   ]
  },
  {
   "cell_type": "markdown",
   "metadata": {
    "colab_type": "text",
    "id": "-CMmuZ990D16"
   },
   "source": [
    "__Przykładowa naprawa:__"
   ]
  },
  {
   "cell_type": "code",
   "execution_count": 10,
   "metadata": {
    "colab": {},
    "colab_type": "code",
    "id": "Q9r4oipv0JnB"
   },
   "outputs": [
    {
     "name": "stdout",
     "output_type": "stream",
     "text": [
      "Rozwiązanie: [False  True False False False False False  True False  True False  True\n",
      " False False False  True False  True  True False  True  True  True False\n",
      " False False False  True  True  True False False  True False False  True\n",
      "  True  True False  True False False False False False  True  True  True\n",
      " False False]\n",
      "Lista wybranych przedmiotow: [ 1  7  9 11 15 17 18 20 21 22 27 28 29 32 35 36 37 39 45 46 47]\n",
      "Suma wag: 1093\n",
      "Suma wartosci: 981\n"
     ]
    }
   ],
   "source": [
    "correct_solution(w, v, W, sol)\n",
    "\n",
    "print('Rozwiązanie:', sol)\n",
    "print('Lista wybranych przedmiotow:', np.arange(num)[sol])\n",
    "print('Suma wag:', w[sol].sum())\n",
    "print('Suma wartosci:', v[sol].sum())"
   ]
  },
  {
   "cell_type": "markdown",
   "metadata": {
    "colab_type": "text",
    "id": "SsQhwOpN0Shh"
   },
   "source": [
    "## Losowe, dopuszczalne rozwiązania\n",
    "\n",
    "Bazując na powyższej procedurze, można zdefiniować funkcję generującą losowe, ale zawsze dopuszczalne rozwiązania."
   ]
  },
  {
   "cell_type": "code",
   "execution_count": 11,
   "metadata": {
    "colab": {},
    "colab_type": "code",
    "id": "6nP5Lyvb1Tk4"
   },
   "outputs": [],
   "source": [
    "def get_random_solution(w, v, W):\n",
    "    num = w.shape[0]\n",
    "    sol = np.random.randint(0,2, size=num, dtype=np.bool)  # 1 / True oznacza, ze przedmiot jest wybrany\n",
    "    _V = np.sum(v[sol])\n",
    "    _W = np.sum(w[sol])\n",
    "    if _W > W:\n",
    "        correct_solution(w,v,W,sol)\n",
    "        _V = np.sum(v[sol])\n",
    "        _W = np.sum(w[sol])\n",
    "    return sol, _W, _V"
   ]
  },
  {
   "cell_type": "markdown",
   "metadata": {
    "colab_type": "text",
    "id": "UPISQ8Sh1VB_"
   },
   "source": [
    "__Przykład użycia:__"
   ]
  },
  {
   "cell_type": "code",
   "execution_count": 12,
   "metadata": {
    "colab": {},
    "colab_type": "code",
    "id": "xRnXWw_W1cl3"
   },
   "outputs": [
    {
     "name": "stdout",
     "output_type": "stream",
     "text": [
      "Rozwiązanie: [ True False  True False False False False  True  True  True  True False\n",
      "  True  True  True False False  True  True  True False False False False\n",
      "  True  True False  True False  True  True  True False  True  True False\n",
      " False False False False  True False  True  True False False  True  True\n",
      " False  True]\n",
      "Lista wybranych przedmiotow: [ 0  2  7  8  9 10 12 13 14 17 18 19 24 25 27 29 30 31 33 34 40 42 43 46\n",
      " 47 49]\n",
      "Suma wag: 1115\n",
      "Suma wartosci: 1329\n"
     ]
    }
   ],
   "source": [
    "sol = get_random_solution(w,v,W)\n",
    "\n",
    "print('Rozwiązanie:', sol[0])\n",
    "print('Lista wybranych przedmiotow:', np.arange(num)[sol[0]])\n",
    "print('Suma wag:', sol[1])\n",
    "print('Suma wartosci:', sol[2])"
   ]
  },
  {
   "cell_type": "markdown",
   "metadata": {
    "colab_type": "text",
    "id": "M03PG6yd1irJ"
   },
   "source": [
    "## Random search\n",
    "\n",
    "Powyższe funkcje można przełożyć na prostą heurystykę przeszukiwania losowego. Generujemy losowe (ale dopuszczalne) rozwiązania przez zadaną liczbę iteracji i zapamiętujemy najlepsze. Dodatkowo, zapisujemy oceny rozwiązań (wartość wszystkich przedmiotów w plecaku) by przedstawić je na wykresie."
   ]
  },
  {
   "cell_type": "code",
   "execution_count": 13,
   "metadata": {
    "colab": {},
    "colab_type": "code",
    "id": "hbZjro5I1kMh"
   },
   "outputs": [],
   "source": [
    "def search_random(w,v,W,iters):\n",
    "    best_sol, best_W, best_V = get_random_solution(w,v,W)\n",
    "    v_all = [best_V]\n",
    "    v_best = [best_V]\n",
    "    for i in range(iters):\n",
    "        sol, _W, _V = get_random_solution(w,v,W)\n",
    "        if best_V < _V:\n",
    "            best_sol, best_W, best_V = sol, _W, _V\n",
    "        v_all.append(_V)\n",
    "        v_best.append(best_V)\n",
    "    plt.figure()\n",
    "    plt.plot(v_all)\n",
    "    plt.plot(v_best)\n",
    "    plt.show()\n",
    "    return best_sol, best_W, best_V, v_all, v_best"
   ]
  },
  {
   "cell_type": "markdown",
   "metadata": {
    "colab_type": "text",
    "id": "G8bAkxx31nTS"
   },
   "source": [
    "__Przykładowe uruchomienie:__"
   ]
  },
  {
   "cell_type": "code",
   "execution_count": 14,
   "metadata": {
    "colab": {},
    "colab_type": "code",
    "id": "MgXTYWem1rv1"
   },
   "outputs": [
    {
     "data": {
      "image/png": "[encoded data removed]",
      "text/plain": [
       "<Figure size 432x288 with 1 Axes>"
      ]
     },
     "metadata": {
      "needs_background": "light"
     },
     "output_type": "display_data"
    },
    {
     "name": "stdout",
     "output_type": "stream",
     "text": [
      "Najlepsze rozwiązanie: [ True False False False False  True  True  True  True  True  True  True\n",
      "  True False False  True  True  True  True  True False False  True  True\n",
      " False  True False  True False  True  True  True  True False False False\n",
      " False False  True  True  True  True False False False  True  True False\n",
      " False  True]\n",
      "Przedmioty: [ 0  5  6  7  8  9 10 11 12 15 16 17 18 19 22 23 25 27 29 30 31 32 38 39\n",
      " 40 41 45 46 49]\n",
      "Suma wag: 1115\n",
      "Suma wartosci: 1627\n"
     ]
    }
   ],
   "source": [
    "sol_random_search = search_random(w, v, W, 1000)\n",
    "\n",
    "print('Najlepsze rozwiązanie:',sol_random_search[0])\n",
    "print('Przedmioty:',np.arange(num)[sol_random_search[0]])\n",
    "print('Suma wag:', sol_random_search[1])\n",
    "print('Suma wartosci:', sol_random_search[2])"
   ]
  },
  {
   "cell_type": "markdown",
   "metadata": {
    "colab_type": "text",
    "id": "XTEbJTc211kZ"
   },
   "source": [
    "## Greedy search - procedura optymalizacji zachłannej\n",
    "\n",
    "Problemem w powyższym podejściu jest fakt, że kolejne rozwiązania nie korzystają z uzyskanej już wiedzy o najlepszych do tej pory rozwiązaniach. Zatem inna prosta heurytyka polega na wystartowaniu z losowego rozwiązania, a następnie modyfikowaniu go poprzez losowe dodawanie przedmiotu do plecaka. Jeśli zmiana (po ewentualnej naprawie) wprowadza poprawę, pozostajemy przy takim rozwiązaniu, jeśli następuje pogorszenie, odrzucamy takie rozwiązanie i ponawiamy próbę.\n",
    "\n",
    "Taka procedura jest przykładem optymalizacji zachłannej."
   ]
  },
  {
   "cell_type": "code",
   "execution_count": 15,
   "metadata": {
    "colab": {},
    "colab_type": "code",
    "id": "tc2_XLU813u4"
   },
   "outputs": [],
   "source": [
    "def search_greedy_improvement(w, v, W, iters):\n",
    "    best_sol, best_W, best_V = get_random_solution(w,v,W)\n",
    "    v_all = [best_V]\n",
    "    v_best = [best_V]\n",
    "    num = w.shape[0]\n",
    "    for i in range(iters):\n",
    "        sol = best_sol.copy()\n",
    "        #set random 0 bit to 1\n",
    "        indx = np.random.randint(num)\n",
    "        while sol[indx%num] == True:\n",
    "            indx = indx + 1\n",
    "        sol[indx%num] = True\n",
    "        #correct if needed\n",
    "        if w[sol].sum() > W:\n",
    "            correct_solution(w,v,W,sol)\n",
    "        _V = v[sol].sum()\n",
    "        _W = w[sol].sum()\n",
    "        if best_V < _V:\n",
    "            best_sol, best_W, best_V = sol.copy(), _W, _V\n",
    "        v_all.append(_V)\n",
    "        v_best.append(best_V)\n",
    "    plt.figure()\n",
    "    plt.plot(v_all)\n",
    "    plt.plot(v_best)\n",
    "    plt.show()\n",
    "    return best_sol, best_W, best_V, v_all, v_best "
   ]
  },
  {
   "cell_type": "markdown",
   "metadata": {
    "colab_type": "text",
    "id": "ZaqryUp-19zZ"
   },
   "source": [
    "__Przykładowe uruchomienie:__"
   ]
  },
  {
   "cell_type": "code",
   "execution_count": 16,
   "metadata": {
    "colab": {},
    "colab_type": "code",
    "id": "6l_uj9UJ2BZc"
   },
   "outputs": [
    {
     "data": {
      "image/png": "[encoded data removed]",
      "text/plain": [
       "<Figure size 432x288 with 1 Axes>"
      ]
     },
     "metadata": {
      "needs_background": "light"
     },
     "output_type": "display_data"
    },
    {
     "name": "stdout",
     "output_type": "stream",
     "text": [
      "Najlepsze rozwiązanie: [ True  True False  True  True  True  True  True  True  True  True  True\n",
      "  True  True  True False False  True False  True  True False False  True\n",
      " False False  True  True False  True  True False  True False  True False\n",
      " False False False  True  True  True False  True  True  True  True False\n",
      "  True  True]\n",
      "Przedmioty: [ 0  1  3  4  5  6  7  8  9 10 11 12 13 14 17 19 20 23 26 27 29 30 32 34\n",
      " 39 40 41 43 44 45 46 48 49]\n",
      "Suma wag: 1139\n",
      "Suma wartosci: 2118\n"
     ]
    }
   ],
   "source": [
    "sol_greedy = search_greedy_improvement(w,v,W,1000)\n",
    "\n",
    "print('Najlepsze rozwiązanie:',sol_greedy[0])\n",
    "print('Przedmioty:',np.arange(num)[sol_greedy[0]])\n",
    "print('Suma wag:', sol_greedy[1])\n",
    "print('Suma wartosci:', sol_greedy[2])"
   ]
  },
  {
   "cell_type": "markdown",
   "metadata": {
    "colab_type": "text",
    "id": "k0_8oJpn2IcP"
   },
   "source": [
    "## Dwie inne proste heurystyki"
   ]
  },
  {
   "cell_type": "markdown",
   "metadata": {
    "colab_type": "text",
    "id": "Le_wv1xO2LAr"
   },
   "source": [
    "### Najpierw najbardziej wartościowe\n",
    "\n",
    "Jak dobre rozwiązanie dostaniemy, jeśli do plecaka pakować będziemy najpierw najbardziej wartościowe przedmioty (o ile się zmieszczą)? Pomysł ten jest zaimplementowany w poniższej funkcji."
   ]
  },
  {
   "cell_type": "code",
   "execution_count": 17,
   "metadata": {
    "colab": {},
    "colab_type": "code",
    "id": "BLEyWEXw2NDn"
   },
   "outputs": [],
   "source": [
    "#Pakuje najpierw najbardziej wartościowe przedmioty\n",
    "def get_value_first(w, v, W):\n",
    "    ii = np.argsort(-v)\n",
    "    num = w.shape[0]\n",
    "    sol = np.repeat(False, num)\n",
    "    _W = 0\n",
    "    for i in range(num):\n",
    "        if _W + w[ii[i]] <= W:\n",
    "            sol[ii[i]] = True\n",
    "            _W = _W + w[ii[i]]\n",
    "    _V = v[sol].sum()\n",
    "    return sol, _W, _V"
   ]
  },
  {
   "cell_type": "markdown",
   "metadata": {
    "colab_type": "text",
    "id": "wfsVAC3W2P0c"
   },
   "source": [
    "__Przykładowe uruchomienie:__"
   ]
  },
  {
   "cell_type": "code",
   "execution_count": 18,
   "metadata": {
    "colab": {},
    "colab_type": "code",
    "id": "q_DgoR702UYC"
   },
   "outputs": [
    {
     "name": "stdout",
     "output_type": "stream",
     "text": [
      "Najlepsze rozwiązanie: [ True  True False  True  True  True  True  True  True  True  True  True\n",
      "  True False  True False False  True False  True  True False False  True\n",
      " False  True  True  True False  True  True False  True False  True False\n",
      " False False False  True False  True  True  True  True  True  True False\n",
      "  True  True]\n",
      "Przedmioty: [ 0  1  3  4  5  6  7  8  9 10 11 12 14 17 19 20 23 25 26 27 29 30 32 34\n",
      " 39 41 42 43 44 45 46 48 49]\n",
      "Suma wag: 1137\n",
      "Suma wartosci: 2161\n"
     ]
    }
   ],
   "source": [
    "sol_value_first = get_value_first(w, v, W)\n",
    "\n",
    "print('Najlepsze rozwiązanie:',sol_value_first[0])\n",
    "print('Przedmioty:',np.arange(num)[sol_value_first[0]])\n",
    "print('Suma wag:', sol_value_first[1])\n",
    "print('Suma wartosci:', sol_value_first[2])"
   ]
  },
  {
   "cell_type": "markdown",
   "metadata": {
    "colab_type": "text",
    "id": "m3D7canv2X4z"
   },
   "source": [
    "### Najpierw te o najlepszym stosunku wartości do wagi\n",
    "\n",
    "Inny pomysł to pakowanie najpierw przedmiotów o najlepszym stosunku wartości do wagi."
   ]
  },
  {
   "cell_type": "code",
   "execution_count": 19,
   "metadata": {
    "colab": {},
    "colab_type": "code",
    "id": "XIy_yM202akv"
   },
   "outputs": [],
   "source": [
    "def get_ratio_first(w, v, W):\n",
    "    ii = np.argsort(-v/w) #stosunek wartosci do wagi\n",
    "    num = w.shape[0]\n",
    "    sol = np.repeat(False, num)\n",
    "    _W = 0\n",
    "    for i in range(num):\n",
    "        if _W + w[ii[i]] <= W:\n",
    "            sol[ii[i]] = True\n",
    "            _W = _W + w[ii[i]]\n",
    "    _V = v[sol].sum()\n",
    "    return sol, _W, _V"
   ]
  },
  {
   "cell_type": "markdown",
   "metadata": {
    "colab_type": "text",
    "id": "4C2aItmv2ejT"
   },
   "source": [
    "__Przykładowe uruchomienie:__"
   ]
  },
  {
   "cell_type": "code",
   "execution_count": 20,
   "metadata": {
    "colab": {},
    "colab_type": "code",
    "id": "T8bH7L-52imL"
   },
   "outputs": [
    {
     "name": "stdout",
     "output_type": "stream",
     "text": [
      "Najlepsze rozwiązanie: [ True  True False  True  True  True  True  True  True  True  True  True\n",
      "  True False  True False False  True False  True  True False False  True\n",
      " False  True  True  True False  True  True False  True False  True False\n",
      " False False False  True  True  True  True False  True  True  True False\n",
      "  True  True]\n",
      "Przedmioty: [ 0  1  3  4  5  6  7  8  9 10 11 12 14 17 19 20 23 25 26 27 29 30 32 34\n",
      " 39 40 41 42 44 45 46 48 49]\n",
      "Suma wag: 1119\n",
      "Suma wartosci: 2153\n"
     ]
    }
   ],
   "source": [
    "sol_ratio_first = get_ratio_first(w, v, W)\n",
    "\n",
    "print('Najlepsze rozwiązanie:',sol_ratio_first[0])\n",
    "print('Przedmioty:',np.arange(num)[sol_ratio_first[0]])\n",
    "print('Suma wag:', sol_ratio_first[1])\n",
    "print('Suma wartosci:', sol_ratio_first[2])"
   ]
  },
  {
   "cell_type": "markdown",
   "metadata": {
    "colab_type": "text",
    "id": "Qk1kWZ5Ysz2O"
   },
   "source": [
    "## Zadanie 2 (obowiązkowe, 3 pkt.)\n",
    "\n",
    "Opracowane być mogą inne procedury naprawcze. Przykładowo, dla rozwiązania niedopuszczalengo, zamiast zmieniać losowe bity True na False, jak w funkcji `correct_solution`, można usuwać najpierw te przedmioty, które mają najgorszy stosunek wartości do wagi. Zaimplementuj taką procedurę. \n",
    "\n",
    "Porównaj jej działanie z funkcją `correct_solution` w metodach RandomSearch oraz GreedySearch. Przedstaw uśrednione wyniki (co najmniej 10 uruchomień) i wnioski."
   ]
  },
  {
   "cell_type": "markdown",
   "metadata": {
    "colab_type": "text",
    "id": "tFrsWQN3t1PT"
   },
   "source": [
    "TWÓJ PROGRAM:"
   ]
  },
  {
   "cell_type": "code",
   "execution_count": 39,
   "metadata": {
    "colab": {},
    "colab_type": "code",
    "id": "-5H5AyL1tE6j"
   },
   "outputs": [
    {
     "name": "stdout",
     "output_type": "stream",
     "text": [
      "Poj max:  1179\n",
      "correct_solution\n",
      "Poprawione w:  1131.3\n",
      "Poprawione v:  1070.9\n",
      "search_random\n",
      "Poprawione w:  1132.1\n",
      "Poprawione v:  1642.4\n",
      "search_greedy\n",
      "Poprawione w:  1172.7\n",
      "Poprawione v:  2035.5\n"
     ]
    }
   ],
   "source": [
    "import numpy as np\n",
    "\n",
    "num = 50\n",
    "weight_min = 1\n",
    "weight_max = 100\n",
    "value_min = 1\n",
    "value_max = 100\n",
    "knapsack_perc = 0.5\n",
    "\n",
    "\n",
    "def generate_problem(wmin, wmax, vmin, vmax, items_num):\n",
    "    w = np.random.randint(wmin, wmax, size=items_num)  # weight\n",
    "    v = np.random.randint(vmin, vmax, size=items_num)  # values\n",
    "    return w, v\n",
    "\n",
    "\n",
    "def poprawne_rozwiazanie(w, v, W, sol):\n",
    "    st = np.argsort(v / w)\n",
    "    i = 0\n",
    "    while w[sol].sum() > W:\n",
    "        index = st[i]\n",
    "        sol[index] = False\n",
    "        i = i + 1\n",
    "\n",
    "\n",
    "def correct_solution(w, v, W, sol):\n",
    "    num = w.shape[0]\n",
    "    while w[sol].sum() > W:\n",
    "        indx = np.random.randint(num)\n",
    "        while sol[indx % num] == False:\n",
    "            indx = indx + 1\n",
    "        sol[indx % num] = False\n",
    "\n",
    "\n",
    "def get_random_solution(w, v, W):\n",
    "    num = w.shape[0]\n",
    "    sol = np.random.randint(0, 2, size=num, dtype=np.bool)\n",
    "    _V = np.sum(v[sol])\n",
    "    _W = np.sum(w[sol])\n",
    "    if _W > W:\n",
    "        correct_solution(w, v, W, sol)\n",
    "        _V = np.sum(v[sol])\n",
    "        _W = np.sum(w[sol])\n",
    "    return sol, _W, _V\n",
    "\n",
    "\n",
    "\n",
    "\n",
    "def search_random(w, v, W, iters):\n",
    "    best_sol, best_W, best_V = get_random_solution(w, v, W)\n",
    "    v_all = [best_V]\n",
    "    v_best = [best_V]\n",
    "    for i in range(iters):\n",
    "        sol, _W, _V = get_random_solution(w, v, W)\n",
    "        if best_V < _V:\n",
    "            best_sol, best_W, best_V = sol, _W, _V\n",
    "        v_all.append(_V)\n",
    "        v_best.append(best_V)\n",
    "    return best_sol, best_W, best_V, v_all, v_best\n",
    "\n",
    "    return sol, _W, _V\n",
    "\n",
    "\n",
    "\n",
    "\n",
    "def search_greedy_improvement(w, v, W, iters):\n",
    "    best_sol, best_W, best_V = get_random_solution(w, v, W)\n",
    "    v_all = [best_V]\n",
    "    v_best = [best_V]\n",
    "    num = w.shape[0]\n",
    "    for i in range(iters):\n",
    "        sol = best_sol.copy()\n",
    "        # set random 0 bit to 1\n",
    "        indx = np.random.randint(num)\n",
    "        while sol[indx % num] == True:\n",
    "            indx = indx + 1\n",
    "        sol[indx % num] = True\n",
    "        # correct if needed\n",
    "        if w[sol].sum() > W:\n",
    "            correct_solution(w, v, W, sol)\n",
    "        _V = v[sol].sum()\n",
    "        _W = w[sol].sum()\n",
    "        if best_V < _V:\n",
    "            best_sol, best_W, best_V = sol.copy(), _W, _V\n",
    "        v_all.append(_V)\n",
    "        v_best.append(best_V)\n",
    "    return best_sol, best_W, best_V, v_all, v_best\n",
    "\n",
    "\n",
    "\n",
    "##testy\n",
    "n_iter = 10\n",
    "import time\n",
    "\n",
    "np.random.seed(121023)\n",
    "w, v = generate_problem(weight_min, weight_max, value_min, value_max, num)  # w - wagi, v - wartosci\n",
    "Wall = w.sum()\n",
    "Vall = v.sum()\n",
    "W = int(knapsack_perc * Wall)  # pojemnosc plecaka\n",
    "num = w.shape[0]\n",
    "sol = np.random.randint(0, 2, size=num, dtype=np.bool)\n",
    "print(\"Poj max: \", W)\n",
    "\n",
    "#  correct\n",
    "poprawione_v = 0\n",
    "# poprawne_rozwiazanie\n",
    "poprawione_w = 0\n",
    "# random\n",
    "poprawione_vr = []\n",
    "poprawione_wr = []\n",
    "\n",
    "# greedy\n",
    "poprawione_vg = []\n",
    "poprawione_wg = []\n",
    "\n",
    "\n",
    "\n",
    "def test_corrector(w_2, v_2, W_2, fun):\n",
    "\n",
    "    rozwiazanie_search = fun(w_2, v_2, W_2, 500)\n",
    "    poprawione_w = rozwiazanie_search[1]\n",
    "    poprawione_v = rozwiazanie_search[2]\n",
    "    return poprawione_v, poprawione_w\n",
    "\n",
    "\n",
    "def test_runner(result_value, result_weight, calc_result):\n",
    "    result_v, result_w = calc_result\n",
    "    result_value.append(result_v)\n",
    "    result_weight.append(result_w)\n",
    "\n",
    "\n",
    "for i in range(n_iter):\n",
    "    w_2 = np.copy(w)\n",
    "    v_2 = np.copy(v)\n",
    "    sol_2 = np.copy(sol)\n",
    "\n",
    "    correct_solution(w_2, v_2, np.copy(W), sol_2)\n",
    "    poprawione_v += v_2[sol_2].sum()\n",
    "    poprawione_w += w_2[sol_2].sum()\n",
    "\n",
    "  \n",
    "\n",
    "    test_runner(poprawione_vr, poprawione_wr, test_corrector(np.copy(w), np.copy(v), np.copy(W), search_random))\n",
    "    \n",
    "\n",
    "    test_runner(poprawione_vg, poprawione_wg,\n",
    "                test_corrector(np.copy(w), np.copy(v), np.copy(W), search_greedy_improvement))\n",
    "\n",
    "\n",
    "print(\"correct_solution\")\n",
    "print(\"Poprawione w: \", poprawione_w / n_iter)\n",
    "print(\"Poprawione v: \", poprawione_v / n_iter)\n",
    "\n",
    "print(\"search_random\")\n",
    "print(\"Poprawione w: \", np.mean(poprawione_wr))\n",
    "print(\"Poprawione v: \", np.mean(poprawione_vr))\n",
    "\n",
    "print(\"search_greedy\")\n",
    "print(\"Poprawione w: \", np.mean(poprawione_wg ))\n",
    "print(\"Poprawione v: \", np.mean(poprawione_vg ))\n"
   ]
  },
  {
   "cell_type": "markdown",
   "metadata": {
    "colab_type": "text",
    "id": "AmZn_79X20TQ"
   },
   "source": [
    "Najlepsze wyniki otrzymuje greedy ,reszta wyników nieznacznie różni się od siebie."
   ]
  },
  {
   "cell_type": "markdown",
   "metadata": {
    "colab_type": "text",
    "id": "S1I6B4dl2693"
   },
   "source": []
  },
  {
   "cell_type": "markdown",
   "metadata": {
    "colab_type": "text",
    "id": "aTJLCU6KiT-T"
   },
   "source": [
    "## Zadanie 3 (obowiązkowe, 6 pkt.)\n",
    "\n",
    "Dostosuj swoją implementację algorytmu genetycznego do problemu plecakowego. \n",
    "\n",
    "- Jakie wyniki można uzyskać z jego pomocą? Czy działa on zawsze lepiej niż inne heurystyki?\n",
    "\n",
    "- Która procedura naprawcza działa lepiej w algorytmie genetycznym?\n",
    "\n",
    "- Przedstaw wnioski na podstawie uśrednionych wyników dla problemów plecakowych o rozmiarze 50, 100, 300.\n",
    "\n",
    "- Problemy plecakowe i najlepsze znalezione rozwiązania zapisz do plików.\n",
    "\n",
    "UWAGA! Po wygenerowaniu problemu plecakowego, przed uruchomieniem algorytmu genetycznego (lub innego) wywołaj:\n",
    "\n",
    "`np.random.seed(int(time.time()))`\n",
    "\n",
    "tak by problem plecakowy generował się ten sam, ale algorytmy miały szansę na nowy przebieg."
   ]
  },
  {
   "cell_type": "markdown",
   "metadata": {
    "colab_type": "text",
    "id": "ZiHzVQYYibOS"
   },
   "source": [
    "TWÓJ PROGRAM:"
   ]
  },
  {
   "cell_type": "code",
   "execution_count": 40,
   "metadata": {
    "colab": {},
    "colab_type": "code",
    "id": "yXixd4Rotaq9"
   },
   "outputs": [
    {
     "name": "stdout",
     "output_type": "stream",
     "text": [
      "initial best 1593\n",
      "better solution of  1674 in 2\n",
      "better solution of  1685 in 8\n",
      "better solution of  1702 in 10\n",
      "better solution of  1759 in 11\n",
      "better solution of  1789 in 14\n",
      "better solution of  1869 in 15\n"
     ]
    },
    {
     "data": {
      "image/png": "[encoded data removed]",
      "text/plain": [
       "<Figure size 432x288 with 1 Axes>"
      ]
     },
     "metadata": {
      "needs_background": "light"
     },
     "output_type": "display_data"
    },
    {
     "name": "stdout",
     "output_type": "stream",
     "text": [
      "initial best 2093\n",
      "better solution of  2101 in 1\n",
      "better solution of  2104 in 2\n",
      "better solution of  2137 in 8\n"
     ]
    },
    {
     "data": {
      "image/png": "[encoded data removed]",
      "text/plain": [
       "<Figure size 432x288 with 1 Axes>"
      ]
     },
     "metadata": {
      "needs_background": "light"
     },
     "output_type": "display_data"
    },
    {
     "name": "stdout",
     "output_type": "stream",
     "text": [
      "initial best 3977\n",
      "better solution of  4362 in 1\n",
      "better solution of  4568 in 2\n",
      "better solution of  4655 in 15\n",
      "better solution of  4714 in 37\n",
      "better solution of  4762 in 51\n",
      "better solution of  4770 in 54\n",
      "better solution of  4813 in 69\n",
      "better solution of  4826 in 118\n",
      "better solution of  4827 in 129\n",
      "better solution of  4905 in 132\n",
      "better solution of  4910 in 187\n"
     ]
    },
    {
     "data": {
      "image/png": "[encoded data removed]",
      "text/plain": [
       "<Figure size 432x288 with 1 Axes>"
      ]
     },
     "metadata": {
      "needs_background": "light"
     },
     "output_type": "display_data"
    }
   ],
   "source": [
    "import numpy as np\n",
    "import matplotlib.pyplot as plt\n",
    "\n",
    "def correct_individual(w, v, W, sol):\n",
    "    ii = np.argsort(v/w) #stosunek wartosci do wagi\n",
    "    index = 0\n",
    "    while w[sol].sum() > W:\n",
    "        sol[ii[index]] = False\n",
    "        index += 1\n",
    "\n",
    "def gen_pop(w, v, W, pop_size):\n",
    "    pop =[]\n",
    "    for i in range(0, pop_size):\n",
    "        pop.append(np.random.randint(0,2, size=pop_size, dtype=np.bool))\n",
    "        if w[pop[i]].sum() > W:\n",
    "            correct_individual(w, v, W, pop[i])\n",
    "    return pop\n",
    "\n",
    "def evaluate(pop, v):\n",
    "    evaluated_pop = []\n",
    "    for individual in pop:\n",
    "        evaluated_pop.append(v[individual].sum())\n",
    "    return evaluated_pop\n",
    "\n",
    "def select(pop, evals):\n",
    "    evals = np.asarray(evals)\n",
    "    min_elem = evals.min()\n",
    "    cumulative_sum=np.cumsum(evals)\n",
    "    suma=np.sum( cumulative_sum)    \n",
    "    max_elem = cumulative_sum.max()\n",
    "    new_pop=[]\n",
    "    x = len(pop)\n",
    "    for i in range(0, x):\n",
    "        probability = np.random.uniform(0,max_elem)\n",
    "        for j in range (0, x-1):\n",
    "            if probability > cumulative_sum[j] and probability <=  cumulative_sum[j+1]:\n",
    "                new_pop.append(pop[j+1])\n",
    "                break\n",
    "        else:\n",
    "            new_pop.append(pop[0])\n",
    "                  \n",
    "    return new_pop\n",
    "\n",
    "def xover(pop, p, w,v,W):\n",
    "    new_pop = []\n",
    "    for i in range(0, len(pop), 2):\n",
    "        if i== len(pop)-1:\n",
    "            new_pop.append(pop[i])\n",
    "        else:\n",
    "            probability = np.random.random()\n",
    "            if probability < p:\n",
    "                cr=np.random.randint(0, len(w))\n",
    "                for j in range(0, len(w)):\n",
    "                    indiv1=np.ndarray(len(w), dtype=np.bool)\n",
    "                    indiv2=np.ndarray(len(w), dtype=np.bool)\n",
    "                    if j >= cr:\n",
    "                        indiv1[j] = pop[i+1][j]\n",
    "                        indiv2[j] = pop[i][j]\n",
    "                    else:\n",
    "                        indiv1[j]=pop[i][j]\n",
    "                        indiv2[j] = pop[i+1][j]\n",
    "                    \n",
    "                if w[indiv1].sum() > W:\n",
    "                    correct_individual(w, v, W, indiv1)\n",
    "                if w[indiv2].sum() > W:\n",
    "                    correct_individual(w, v, W, indiv2)\n",
    "                new_pop.append(indiv1)\n",
    "                new_pop.append(indiv2)\n",
    "            else:\n",
    "                new_pop.append(pop[i])\n",
    "                new_pop.append(pop[i+1])\n",
    "            \n",
    "    return new_pop\n",
    "def mutate(pop, p, w,v,W):  \n",
    "    for individual in pop:\n",
    "        for gene in individual:\n",
    "            probability = np.random.random()\n",
    "            if probability < p:\n",
    "                if gene == 1:\n",
    "                    gene = 0\n",
    "                else:\n",
    "                    gene = 1\n",
    "        if w[individual].sum() > W:\n",
    "            correct_individual(w, v, W, individual)\n",
    "    return pop\n",
    "\n",
    "def evolve_knapsack(w, v, W, pop_size, pxover, pmutate, generations):\n",
    "    pop = gen_pop(w,v,W, pop_size)\n",
    "    evals = evaluate(pop, v)\n",
    "    i = np.argmax(evals)\n",
    "    best = pop[i].copy()\n",
    "    best_V = evals[i]\n",
    "    best_iter = 0\n",
    "    v_all = [best_V]\n",
    "    v_best = [best_V]\n",
    "    v_mean = [np.mean(evals)]\n",
    "    \n",
    "    print('initial best', best_V)\n",
    "    \n",
    "    for i in range(generations):\n",
    "        pop = select(pop, evals)\n",
    "        pop = xover(pop, pxover, w,v,W)\n",
    "        pop = mutate(pop, pmutate, w,v,W)\n",
    "        evals = evaluate(pop, v)\n",
    "        ii = np.argmax(evals)\n",
    "        temp_best_v = evals[ii]\n",
    "        if temp_best_v > best_V:\n",
    "            best_V = temp_best_v\n",
    "            best_iter = i+1\n",
    "            best = pop[ii].copy()\n",
    "            print('better solution of ', best_V, 'in', best_iter)\n",
    "        v_all.append(temp_best_v)\n",
    "        v_best.append(best_V)\n",
    "        v_mean.append(np.mean(evals))\n",
    "    \n",
    "    plt.plot(v_best, 'r')\n",
    "    plt.plot(v_all, 'g')\n",
    "    plt.plot(v_mean, 'b')\n",
    "    plt.show()\n",
    "    return best, w[best].sum(), best_V\n",
    "\n",
    "\n",
    "\n",
    "def generate_problem(wmin, wmax, vmin, vmax, items_num):\n",
    "    w = np.random.randint(wmin, wmax, size=items_num)  #weight\n",
    "    v = np.random.randint(vmin, vmax, size=items_num)  #values\n",
    "    return w, v\n",
    "\n",
    "wmin = 1  # minimlana waga\n",
    "wmax = 100  # maksymalna waga\n",
    "vmin = 1  # minimalna wartosc\n",
    "vmax = 100  # maksymalna wartosc\n",
    "knapsack_perc = 0.5  # pojemnosc plecaka \n",
    "import time\n",
    "np.random.seed(int(time.time()))\n",
    "pxover=0.7\n",
    "pmutate=0.01\n",
    "generations=200\n",
    "\n",
    "f = open(\"rozw.txt\", 'w')\n",
    "w, v = generate_problem(wmin, wmax, vmin, vmax, 50)  # w - wagi, v - wartosci\n",
    "Wall = w.sum()\n",
    "f.write(\"liczba przedmiotów: 50\\nwagi: \\n\" + str(w) + \"\\nwartości: \\n\" + str(v))\n",
    "W = int(knapsack_perc * Wall) # pojemnosc plecaka\n",
    "np.random.seed(int(time.time()))\n",
    "sol = evolve_knapsack(w, v, W, 50, pxover, pmutate, generations)\n",
    "f.write(\"\\n roz: \\n\" + str(sol[0]) + \"\\nsuma wag:\\n\" + str(sol[1]) + \"\\nsuma wartości:\\n\" + str(sol[2]) + \"\\n\" )\n",
    "\n",
    "\n",
    "\n",
    "w, v = generate_problem(wmin, wmax, vmin, vmax, 100)\n",
    "f.write(\"\\nl. przedmiotów: 100\\nwagi: \\n\" + str(w) + \"\\nwartości: \\n\" + str(v))\n",
    "np.random.seed(int(time.time()))\n",
    "sol =evolve_knapsack(w, v, W, 100, pxover, pmutate, generations)\n",
    "f.write(\"\\n roz: \\n\" + str(sol[0]) + \"\\nsuma wag:\\n\" + str(sol[1]) + \"\\nsuma wartości:\\n\" + str(sol[2]) + \"\\n\" )\n",
    "\n",
    "w, v = generate_problem(wmin, wmax, vmin, vmax, 300)\n",
    "f.write(\"\\nl. przedmiotów: 300\\nwagi: \\n\" + str(w) + \"\\nwartości: \\n\" + str(v))\n",
    "np.random.seed(int(time.time()))\n",
    "sol = evolve_knapsack(w, v, W, 300, pxover, pmutate, generations)\n",
    "f.write(\"\\n roz: \\n\" + str(sol[0]) + \"\\nsuma wag:\\n\" + str(sol[1]) + \"\\nsuma wartości:\\n\" + str(sol[2]) + \"\\n\" )\n",
    "f.close()"
   ]
  },
  {
   "cell_type": "markdown",
   "metadata": {
    "colab_type": "text",
    "id": "5Q1AGbaa3dW7"
   },
   "source": [
    "TWOJE WYNIKI i WNIOSKI:\n",
    "Gdy mamy małą liczbe przemiotów w problemie plecakowym posiada dość sporą rozbieżność lecz szybkie działanie zaś gdy liczba urośnie powyżej ok 100 algorytm znacznie zwalnia.\n",
    "Minusem algorytmu genetycznego jest to że nie zawsze nasze otrzymane rozwiązanie jest mniej kosztowne.\n",
    "liczba przedmiotów: 50\n",
    "wagi: \n",
    "[95 94 28 38 72 41 25 15 39 21 92 25 41 38 58 32 84 78 86 39 80 86 99 48\n",
    " 51 17 41 45 71 30 11 59  6 95 78 16 93 77 52  3  3 33 33  6 73 73 18 85\n",
    " 35  4]\n",
    "wartości: \n",
    "[11 52 83 31 99 30 25 57 35 15 62  9 22 17  7 82 44 36 39 96 42 11 22 87\n",
    " 66 66 54 73 31  2 88 12 65 47 43 53 67 59 10 49 64 35 66 26 19 61 72 85\n",
    " 20 85]\n",
    " roz: \n",
    "[False False  True  True  True  True  True  True False  True  True False\n",
    "  True False False  True False False False  True  True False False  True\n",
    "  True  True  True  True False False  True False  True False  True  True\n",
    "  True False False  True  True  True  True  True False  True  True  True\n",
    "  True  True]\n",
    "suma wag:\n",
    "1223\n",
    "suma wartości:\n",
    "1869\n",
    "\n",
    "l. przedmiotów: 100\n",
    "wagi: \n",
    "[52 85 65 60 76 88 80 91 13 66 60 78 87 40 92 26 82 53 60 42 62 34 76 56\n",
    " 27 77 19 67 58 58 94  3 93 41 79 31 91 15 70 12 81 28  6 33  1 36 51 88\n",
    " 87 13 82 12 90 58 55 79  7 39 86 26 87 84 52  4 82 35 60 58 36 77 74 36\n",
    " 71 49 67 72 18 78 56 71 58 65 62 73 57 70 21  5 98  1 74 84 42  5 97 40\n",
    " 48 35 39 54]\n",
    "wartości: \n",
    "[19 86 99 66 22 73 44 40 62 35 99  9 35 46 66 45 29 66 21 50 54 66 73 65\n",
    "  8 26 55 53 14 87 96 10 23  8 13 62 34 21  8 61  5 59 73 35 89 86 10 15\n",
    " 51 32 17 62 81 58 70  5 14 17 10 63 75  7 18 36 71  9 66 45 82 66 34 12\n",
    " 68 84 63 47  2 40 82 28 98 53 52 77 23 37 98 92 80 10 52 59 70 59 90 40\n",
    " 29 83 49 32]\n",
    " roz: \n",
    "[False  True  True  True False False False False  True False False False\n",
    " False  True False False False  True False  True False  True False False\n",
    " False False  True False False  True  True False False False False  True\n",
    " False False False  True False  True  True  True  True False False False\n",
    " False False False False False  True False False False False False  True\n",
    " False False False  True False False False False  True False False False\n",
    "  True False False False False False  True False  True False False False\n",
    " False False  True  True False  True False False  True False  True False\n",
    " False  True  True False]\n",
    "suma wag:\n",
    "1223\n",
    "suma wartości:\n",
    "2137\n",
    "\n",
    "l. przedmiotów: 300\n",
    "wagi: \n",
    "[ 3 38 56 24 90 36  1 76 30 68 86 45 22 46 96 48 81 64 42 98 99 21 23  5\n",
    " 20 64 33 77 71 45 90 41 84 63 32 85 25 95 42 47 60 38 59 20 16 68 16 30\n",
    " 13 34  9 61 40 78 14 49 25 76  7 82 76 54 82 15 34 79 59 85 88 60 75 21\n",
    " 30 24 20 65 58 68 99 94 38 81 58  4 62 41 11 99  3 18 56 27 28 30 32 44\n",
    " 74 27 20 37 93  7 79 19 62 91 68 30 94 91 27  5  4 82  4 81 79 70 86 73\n",
    " 43 68  2  1 40 25 78 81 15 87 35 25 20 30 95 46 25 96  8 60 98 10 46 74\n",
    " 28 48 41 85 64 74 96 53 82 72 80 95 23 86 33  9 26 83 48 15 24 31 67 34\n",
    " 60 11  1 99 28 56 98 88  7 45 89 62 36 51 99 59 57  7 52 19 52 19 91 99\n",
    " 52 30 92 44 91 89 20 65 49  6 56 51  3 70 74 48  3 83 60 11 31 27 12  4\n",
    " 36 70 16  9  9 74 74 71 36 29 47 15 79 27 54 95 97 80  5 98 76 87 40 25\n",
    " 47 56  8 56 52 78 89 53 81 56 97 61 12 70 61 92 80 64 97  6 68 55 37  3\n",
    " 85 60 68  2 79 53 68 45  9 50 49 50 83  6 64  6 84 83 11 79 94 91  1 23\n",
    " 89 51 32 23 81  2  6  3 11 77 88 26]\n",
    "wartości: \n",
    "[39  9 26 14 49 49 74 30 97 52 47 61 11 58 84  5 65  1 66 92 26 28 42  6\n",
    " 92 67 26 17 15 63 23 25 25 26 50 72 59  8 53 68 91 64 89 50 42 73 30  2\n",
    " 39 30 52 10 54 95 86 22 10 76 23 41 44  6 65 93 65 21 57 98 47 75 57 87\n",
    " 85 90 53 66 10 21  4 48 30 70 25 46 41 16 22 52 46 31 11 77 23 54 82 73\n",
    " 38 94 16 26 17 89 99 14 75 64 81 79 31 74  5 42 22 27 97 26 59 39  5 36\n",
    " 44 69 25 37 70 68 89 96 67 33 15 83 19 97 75 96 29 41  2 51 13 94 68 18\n",
    " 29 47  8 51  1 52 20 27 21 77 24 37 93 25 78 47 89 92 35  7 56 84 74 30\n",
    " 68 81 48 59 70 10 72 16  4 95 10 26 64  6 87 34 93 27 89 36 88 76 18 40\n",
    " 19 84 30 27 31  4 57 90 15 79 76 96 12 83 66 96 84 27 18  7 13 36  4 91\n",
    " 76 16 48  5  3 95  1  9 82 28 35 42 54 58 22 75 82 39 90 41  4 73 82  3\n",
    " 10  4  2  1 61 62 12 41 21 16 34  3 23 48 92 75 77 83  6  9 89 81 28 39\n",
    " 51 43  7 30 85 77 65 66 45 90  9 45 23 39 22 36 94 30 42 50 81 16 96 27\n",
    " 47 17 43 74  3 75 99 37 88 19 76 83]\n",
    " roz: \n",
    "[ True False False False False False  True False  True False False False\n",
    " False False False False False False False False False False False False\n",
    "  True False False False False False False False False False False False\n",
    "  True False False False False False False  True  True False False False\n",
    "  True False  True False False False  True False False False  True False\n",
    " False False False  True False False False False False False False  True\n",
    "  True  True  True False False False False False False False False  True\n",
    " False False  True False  True False False  True False False  True False\n",
    " False  True False False False  True False False False False False  True\n",
    " False False False  True False False  True False False False False False\n",
    " False False  True  True False  True False False  True False False  True\n",
    " False  True False  True False False False False False  True False False\n",
    " False False False False False False False False False False False False\n",
    "  True False  True  True  True False False False  True  True False False\n",
    " False  True  True False  True False False False False  True False False\n",
    " False False False False False  True False False False  True False False\n",
    " False  True False False False False  True False False  True False False\n",
    "  True False False  True  True False False False False False False  True\n",
    "  True False  True False False False False False  True False False  True\n",
    " False  True False False False False  True False False False  True False\n",
    " False False False False False False False False False False False False\n",
    " False False False False False False False False False False False  True\n",
    " False False False  True False False False False  True False False False\n",
    " False  True False  True False False  True False False False  True False\n",
    " False False False  True False  True  True  True  True False False  True]\n",
    "suma wag:\n",
    "1227\n",
    "suma wartości:\n",
    "4910\n"
   ]
  },
  {
   "cell_type": "markdown",
   "metadata": {
    "colab_type": "text",
    "id": "01XwIJDj3htX"
   },
   "source": []
  },
  {
   "cell_type": "markdown",
   "metadata": {
    "colab_type": "text",
    "id": "C57dALyNj4Se"
   },
   "source": [
    "&copy; Katedra Informatyki, Politechnika Krakowska"
   ]
  }
 ],
 "metadata": {
  "colab": {
   "authorship_tag": "ABX9TyMGHv8gj+gjYfnTe8weRMCA",
   "collapsed_sections": [],
   "name": "Gen_Zadania_2.ipynb",
   "provenance": []
  },
  "kernelspec": {
   "display_name": "Python 3",
   "language": "python",
   "name": "python3"
  },
  "language_info": {
   "codemirror_mode": {
    "name": "ipython",
    "version": 3
   },
   "file_extension": ".py",
   "mimetype": "text/x-python",
   "name": "python",
   "nbconvert_exporter": "python",
   "pygments_lexer": "ipython3",
   "version": "3.7.6"
  }
 },
 "nbformat": 4,
 "nbformat_minor": 1
}
